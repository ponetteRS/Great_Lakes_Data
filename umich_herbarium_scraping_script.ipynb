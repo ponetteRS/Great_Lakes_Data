{
 "cells": [
  {
   "cell_type": "code",
   "execution_count": 1,
   "metadata": {},
   "outputs": [],
   "source": [
    "#Import Statements\n",
    "import urllib.request, urllib.parse, urllib.error\n",
    "from bs4 import BeautifulSoup\n",
    "import ssl\n",
    "import requests\n",
    "import pandas as pd\n",
    "import selenium\n",
    "from selenium import webdriver\n",
    "from selenium.webdriver.common.keys import Keys\n",
    "from selenium.webdriver.common.by import By\n",
    "import re\n",
    "import time"
   ]
  },
  {
   "cell_type": "code",
   "execution_count": 2,
   "metadata": {},
   "outputs": [],
   "source": [
    "\n",
    "\n",
    "#from selenium.webdriver.firefox.firefox_binary import FirefoxBinary\n",
    "#from selenium import webdriver\n",
    "#firefox_binary = FirefoxBinary()\n",
    "#driver = webdriver.Firefox(firefox_binary=firefox_binary)\n",
    "\n",
    "#driver = webdriver.Firefox()\n",
    "#driver.get(\"http://www.python.org\")\n",
    "#assert \"Python\" in driver.title\n",
    "#elem = driver.find_element(By.NAME, \"q\")\n",
    "#elem.clear()\n",
    "#elem.send_keys(\"pycon\")\n",
    "#elem.send_keys(Keys.RETURN)\n",
    "#assert \"No results found.\" not in driver.page_source\n",
    "#driver.close()"
   ]
  },
  {
   "cell_type": "code",
   "execution_count": 3,
   "metadata": {},
   "outputs": [],
   "source": [
    "#Load Rochelle Data\n",
    "rochelle = pd.read_excel(r\"C:\\Users\\justi\\Downloads\\GLANSIS Spp. Tracking.xlsx\", sheet_name = \"Listed\")\n",
    "#scraped_data_frame = pd.DataFrame() !!!LETS CREATE THE DATA FRAME \n",
    "#rochelle.head\n"
   ]
  },
  {
   "cell_type": "code",
   "execution_count": 4,
   "metadata": {},
   "outputs": [],
   "source": [
    "#rochelle.columns"
   ]
  },
  {
   "cell_type": "code",
   "execution_count": 5,
   "metadata": {},
   "outputs": [],
   "source": [
    "#rochelle.reset_index(inplace = True,drop = True) \n",
    "#name = rochelle.loc[2][\"Scientific Name\"] #for some reason couldn't access rochelle[0]...\n",
    "#print(name)\n"
   ]
  },
  {
   "cell_type": "code",
   "execution_count": 6,
   "metadata": {},
   "outputs": [],
   "source": [
    "# Ignore SSL certificate errors --from Beautiful Soup SI 206 textbook\n",
    "ctx = ssl.create_default_context()\n",
    "ctx.check_hostname = False\n",
    "ctx.verify_mode = ssl.CERT_NONE"
   ]
  },
  {
   "cell_type": "code",
   "execution_count": 7,
   "metadata": {},
   "outputs": [],
   "source": [
    "#DEVELOPMENT EXPLORING --- quick learning about using BS with Herbarium\n",
    "# url = \"https://quod.lib.umich.edu/h/herb00ic/x-1000138/MICH-V-1000138A?lasttype=boolean;lastview=reslist;op2=And;q2=Phragmites+australis+australis;resnum=1;rgn2=ic_all;select2=all;size=50;start=1;subview=detail;view=entry\"\n",
    "#html = urllib.request.urlopen(url, context=ctx).read()\n",
    "#soup = BeautifulSoup(html, 'html.parser')\n",
    "#soup"
   ]
  },
  {
   "cell_type": "code",
   "execution_count": 8,
   "metadata": {},
   "outputs": [],
   "source": [
    "#DEVELOPMENT EXPLORING --- quick learning about using BS with Herbarium\n",
    "#resp = requests.get(url)\n",
    "#newsoup = BeautifulSoup(resp.content, 'html.parser')\n",
    "#iteminfo = soup.find('dl')\n",
    "#print(iteminfo)"
   ]
  },
  {
   "cell_type": "code",
   "execution_count": 9,
   "metadata": {},
   "outputs": [],
   "source": [
    "#accessing search page of the herbarium\n",
    "herbarium_url = \"https://quod.lib.umich.edu/cgi/i/image/image-idx?xc=1;page=searchgroup;g=herb-ic\"\n",
    "herbarium_html = urllib.request.urlopen(herbarium_url, context=ctx).read()\n",
    "#herbarium_html\n"
   ]
  },
  {
   "cell_type": "code",
   "execution_count": 10,
   "metadata": {},
   "outputs": [],
   "source": [
    "#setting up driver for Selenium\n",
    "driver = webdriver.Firefox() #???Should I write a script for multiple Browsers?\n",
    "\n",
    "#send driver to the herbarium website and submit a search query and scrape the amount of results\n",
    "#BE SURE TO SWITCH ALL \"FIND ELEMENTS\" TO XPATH IF PLAUSIBLE?\n",
    "driver.get(herbarium_url)\n",
    "elem = driver.find_element(by = By.NAME, value = 'q1') #Q1 is the first search box?\n",
    "elem.send_keys('Cabomba caroliniana') #Sends in a name from Rochelle's list\n",
    "searchbutton = driver.find_element(by = By.CSS_SELECTOR, value= '#collection-search > button.\\[.button.button--cta.\\]') #selects the advanced search button based off the pulled tag from right clicking the inspected element\n",
    "searchbutton.click()\n",
    "#search_results_url = driver.current_url\n",
    "resultcount = driver.find_element(by = By.CLASS_NAME, value ='results-heading').text\n",
    "#next line returns a list of two numbers like ['23','23']\n",
    "resultcountnumberlist= list(map(int, list(filter(lambda x: x!= '', re.findall(r'\\d*', re.search(r'\\d* of \\d*', resultcount).group()))))) #first number in list is the total results displayed on the page, the second number is the total results\n",
    "resultitem = driver.find_element(by=By.XPATH, value='/html/body/main/div[2]/div[2]/section[1]/a')\n",
    "resultitem.click()\n",
    "\n",
    "#individually select each search result and scrape each matching entry"
   ]
  },
  {
   "cell_type": "code",
   "execution_count": 11,
   "metadata": {},
   "outputs": [],
   "source": [
    "#driver2 = webdriver.Chrome()\n",
    "scraped_dataframe = pd.DataFrame(index=[0])\n",
    "for result in range(int(resultcountnumberlist[0]))[:3]: #[:-1]: #properly traverses the amount of results on the page\n",
    "    scrapeddata1 = []\n",
    "    scrapeddata2 = []\n",
    "    time.sleep(2)\n",
    "    resp = requests.get(driver.current_url)\n",
    "    #print(resp.content)\n",
    "    newsoup = BeautifulSoup(resp.content, 'html.parser')\n",
    "    collection_category = newsoup.find_all('dt')\n",
    "    collection_data = newsoup.find_all('dd')\n",
    "    for tag in collection_category:\n",
    "        scrapeddata1.append(tag.text)\n",
    "    for tag in collection_data:\n",
    "        scrapeddata2.append(tag.text)\n",
    "    nextbutton = driver.find_element(by=By.XPATH, value='/html/body/main/div[1]/p/a[2]')\n",
    "    nextbutton.click()\n",
    "    scraped_data = dict(zip(scrapeddata1, scrapeddata2))\n",
    "    result_df = pd.DataFrame(data=scraped_data, index=[0])\n",
    "    #print(result_df)\n",
    "    if scraped_dataframe.empty:\n",
    "        scraped_dataframe = result_df\n",
    "        #print('Empty')\n",
    "    else:\n",
    "        scraped_dataframe = scraped_dataframe.append(pd.DataFrame(data = result_df.values))\n",
    "        #print('Not Empty Anymore')\n",
    "    #print(result_df)\n",
    "#scraped_dataframe.append(result_df)\n",
    "\n"
   ]
  },
  {
   "cell_type": "code",
   "execution_count": 12,
   "metadata": {},
   "outputs": [
    {
     "data": {
      "text/html": [
       "<div>\n",
       "<style scoped>\n",
       "    .dataframe tbody tr th:only-of-type {\n",
       "        vertical-align: middle;\n",
       "    }\n",
       "\n",
       "    .dataframe tbody tr th {\n",
       "        vertical-align: top;\n",
       "    }\n",
       "\n",
       "    .dataframe thead th {\n",
       "        text-align: right;\n",
       "    }\n",
       "</style>\n",
       "<table border=\"1\" class=\"dataframe\">\n",
       "  <thead>\n",
       "    <tr style=\"text-align: right;\">\n",
       "      <th></th>\n",
       "      <th>0</th>\n",
       "      <th>1</th>\n",
       "      <th>2</th>\n",
       "      <th>3</th>\n",
       "      <th>4</th>\n",
       "      <th>5</th>\n",
       "      <th>6</th>\n",
       "      <th>7</th>\n",
       "      <th>8</th>\n",
       "      <th>9</th>\n",
       "      <th>...</th>\n",
       "      <th>Image Size</th>\n",
       "      <th>Institution Code</th>\n",
       "      <th>Link to this Item</th>\n",
       "      <th>Locality</th>\n",
       "      <th>Manifest</th>\n",
       "      <th>Modified</th>\n",
       "      <th>Occurrence ID</th>\n",
       "      <th>Record</th>\n",
       "      <th>Scientific Name</th>\n",
       "      <th>State/Province</th>\n",
       "    </tr>\n",
       "  </thead>\n",
       "  <tbody>\n",
       "    <tr>\n",
       "      <th>0</th>\n",
       "      <td>NaN</td>\n",
       "      <td>NaN</td>\n",
       "      <td>NaN</td>\n",
       "      <td>NaN</td>\n",
       "      <td>NaN</td>\n",
       "      <td>NaN</td>\n",
       "      <td>NaN</td>\n",
       "      <td>NaN</td>\n",
       "      <td>NaN</td>\n",
       "      <td>NaN</td>\n",
       "      <td>...</td>\n",
       "      <td>3753 x 5634</td>\n",
       "      <td>MICH</td>\n",
       "      <td>\\n\\nhttps://quod.lib.umich.edu/h/herb00ic/x-12...</td>\n",
       "      <td>Methuen Twp., Bass Bay, Kasshabog Lake</td>\n",
       "      <td>\\n\\nhttps://quod.lib.umich.edu/cgi/i/image/api...</td>\n",
       "      <td>2016-3-11</td>\n",
       "      <td>df39a3bd-695e-4d5b-b21e-5586374c08f8</td>\n",
       "      <td>1201461</td>\n",
       "      <td>\\nCabomba caroliniana\\n</td>\n",
       "      <td>Ontario</td>\n",
       "    </tr>\n",
       "    <tr>\n",
       "      <th>0</th>\n",
       "      <td>44.6376900000</td>\n",
       "      <td>-77.9427600000</td>\n",
       "      <td>1201476</td>\n",
       "      <td>\\nCabomba caroliniana\\n</td>\n",
       "      <td>Cabombaceae</td>\n",
       "      <td>M.J. Oldham &amp; D.A. Sutherland</td>\n",
       "      <td>Michael J. Oldham</td>\n",
       "      <td>22414</td>\n",
       "      <td>1999-07-12</td>\n",
       "      <td>North America</td>\n",
       "      <td>...</td>\n",
       "      <td>NaN</td>\n",
       "      <td>NaN</td>\n",
       "      <td>NaN</td>\n",
       "      <td>NaN</td>\n",
       "      <td>NaN</td>\n",
       "      <td>NaN</td>\n",
       "      <td>NaN</td>\n",
       "      <td>NaN</td>\n",
       "      <td>NaN</td>\n",
       "      <td>NaN</td>\n",
       "    </tr>\n",
       "    <tr>\n",
       "      <th>0</th>\n",
       "      <td>42.7776300000</td>\n",
       "      <td>-83.5845300000</td>\n",
       "      <td>1302380</td>\n",
       "      <td>\\nCabomba caroliniana\\n</td>\n",
       "      <td>Cabombaceae</td>\n",
       "      <td>Anton A. Reznicek</td>\n",
       "      <td>10329</td>\n",
       "      <td>1996-09-04</td>\n",
       "      <td>North America</td>\n",
       "      <td>USA</td>\n",
       "      <td>...</td>\n",
       "      <td>NaN</td>\n",
       "      <td>NaN</td>\n",
       "      <td>NaN</td>\n",
       "      <td>NaN</td>\n",
       "      <td>NaN</td>\n",
       "      <td>NaN</td>\n",
       "      <td>NaN</td>\n",
       "      <td>NaN</td>\n",
       "      <td>NaN</td>\n",
       "      <td>NaN</td>\n",
       "    </tr>\n",
       "  </tbody>\n",
       "</table>\n",
       "<p>3 rows × 54 columns</p>\n",
       "</div>"
      ],
      "text/plain": [
       "               0               1        2                        3  \\\n",
       "0            NaN             NaN      NaN                      NaN   \n",
       "0  44.6376900000  -77.9427600000  1201476  \\nCabomba caroliniana\\n   \n",
       "0  42.7776300000  -83.5845300000  1302380  \\nCabomba caroliniana\\n   \n",
       "\n",
       "             4                              5                  6           7  \\\n",
       "0          NaN                            NaN                NaN         NaN   \n",
       "0  Cabombaceae  M.J. Oldham & D.A. Sutherland  Michael J. Oldham       22414   \n",
       "0  Cabombaceae              Anton A. Reznicek              10329  1996-09-04   \n",
       "\n",
       "               8              9  ...   Image Size Institution Code  \\\n",
       "0            NaN            NaN  ...  3753 x 5634             MICH   \n",
       "0     1999-07-12  North America  ...          NaN              NaN   \n",
       "0  North America            USA  ...          NaN              NaN   \n",
       "\n",
       "                                   Link to this Item  \\\n",
       "0  \\n\\nhttps://quod.lib.umich.edu/h/herb00ic/x-12...   \n",
       "0                                                NaN   \n",
       "0                                                NaN   \n",
       "\n",
       "                                 Locality  \\\n",
       "0  Methuen Twp., Bass Bay, Kasshabog Lake   \n",
       "0                                     NaN   \n",
       "0                                     NaN   \n",
       "\n",
       "                                            Manifest   Modified  \\\n",
       "0  \\n\\nhttps://quod.lib.umich.edu/cgi/i/image/api...  2016-3-11   \n",
       "0                                                NaN        NaN   \n",
       "0                                                NaN        NaN   \n",
       "\n",
       "                          Occurrence ID   Record          Scientific Name  \\\n",
       "0  df39a3bd-695e-4d5b-b21e-5586374c08f8  1201461  \\nCabomba caroliniana\\n   \n",
       "0                                   NaN      NaN                      NaN   \n",
       "0                                   NaN      NaN                      NaN   \n",
       "\n",
       "  State/Province  \n",
       "0        Ontario  \n",
       "0            NaN  \n",
       "0            NaN  \n",
       "\n",
       "[3 rows x 54 columns]"
      ]
     },
     "execution_count": 12,
     "metadata": {},
     "output_type": "execute_result"
    }
   ],
   "source": [
    "scraped_dataframe"
   ]
  },
  {
   "cell_type": "code",
   "execution_count": 13,
   "metadata": {},
   "outputs": [
    {
     "data": {
      "text/plain": [
       "Index([                  0,                   1,                   2,\n",
       "                         3,                   4,                   5,\n",
       "                         6,                   7,                   8,\n",
       "                         9,                  10,                  11,\n",
       "                        12,                  13,                  14,\n",
       "                        15,                  16,                  17,\n",
       "                        18,                  19,                  20,\n",
       "                        21,                  22,                  23,\n",
       "                        24,                  25,                  26,\n",
       "          'Catalog Number',        'Collection',   'Collection Code',\n",
       "               'Collector',  'Collector Number',         'Continent',\n",
       "                 'Country',            'County',  'Decimal Latitude',\n",
       "       'Decimal Longitude',        'Event Date',            'Family',\n",
       "               'File Size',     'Full citation',           'Habitat',\n",
       "                      'ID',     'Identified By',        'Image Size',\n",
       "        'Institution Code', 'Link to this Item',          'Locality',\n",
       "                'Manifest',          'Modified',     'Occurrence ID',\n",
       "                  'Record',   'Scientific Name',    'State/Province'],\n",
       "      dtype='object')"
      ]
     },
     "execution_count": 13,
     "metadata": {},
     "output_type": "execute_result"
    }
   ],
   "source": [
    "scraped_dataframe.columns"
   ]
  },
  {
   "cell_type": "code",
   "execution_count": 14,
   "metadata": {},
   "outputs": [],
   "source": [
    "aaa =result_df.columns"
   ]
  },
  {
   "cell_type": "code",
   "execution_count": 25,
   "metadata": {},
   "outputs": [],
   "source": [
    "testdf = pd.DataFrame()\n",
    "columns = []\n",
    "for c in aaa:\n",
    "\n",
    "    if c not in testdf.columns:\n",
    "        #print(c)\n",
    "        columns.append(c)\n",
    "ntestdf = pd.DataFrame(columns=columns)"
   ]
  },
  {
   "cell_type": "code",
   "execution_count": 26,
   "metadata": {},
   "outputs": [
    {
     "data": {
      "text/plain": [
       "Index(['Decimal Latitude', 'Decimal Longitude', 'Catalog Number',\n",
       "       'Scientific Name', 'Family', 'Collector', 'Collector Number',\n",
       "       'Event Date', 'Continent', 'Country', 'State/Province', 'County',\n",
       "       'Locality', 'Habitat', 'Collection Code', 'Institution Code',\n",
       "       'Modified', 'ID', 'Occurrence ID', 'Collection', 'Image Size',\n",
       "       'File Size', 'Record', 'Link to this Item', 'Manifest',\n",
       "       'Full citation'],\n",
       "      dtype='object')"
      ]
     },
     "execution_count": 26,
     "metadata": {},
     "output_type": "execute_result"
    }
   ],
   "source": [
    "ntestdf.columns"
   ]
  },
  {
   "cell_type": "code",
   "execution_count": 27,
   "metadata": {},
   "outputs": [
    {
     "data": {
      "text/html": [
       "<div>\n",
       "<style scoped>\n",
       "    .dataframe tbody tr th:only-of-type {\n",
       "        vertical-align: middle;\n",
       "    }\n",
       "\n",
       "    .dataframe tbody tr th {\n",
       "        vertical-align: top;\n",
       "    }\n",
       "\n",
       "    .dataframe thead th {\n",
       "        text-align: right;\n",
       "    }\n",
       "</style>\n",
       "<table border=\"1\" class=\"dataframe\">\n",
       "  <thead>\n",
       "    <tr style=\"text-align: right;\">\n",
       "      <th></th>\n",
       "      <th>Decimal Latitude</th>\n",
       "      <th>Decimal Longitude</th>\n",
       "      <th>Catalog Number</th>\n",
       "      <th>Scientific Name</th>\n",
       "      <th>Family</th>\n",
       "      <th>Collector</th>\n",
       "      <th>Collector Number</th>\n",
       "      <th>Event Date</th>\n",
       "      <th>Continent</th>\n",
       "      <th>Country</th>\n",
       "      <th>...</th>\n",
       "      <th>Modified</th>\n",
       "      <th>ID</th>\n",
       "      <th>Occurrence ID</th>\n",
       "      <th>Collection</th>\n",
       "      <th>Image Size</th>\n",
       "      <th>File Size</th>\n",
       "      <th>Record</th>\n",
       "      <th>Link to this Item</th>\n",
       "      <th>Manifest</th>\n",
       "      <th>Full citation</th>\n",
       "    </tr>\n",
       "  </thead>\n",
       "  <tbody>\n",
       "  </tbody>\n",
       "</table>\n",
       "<p>0 rows × 26 columns</p>\n",
       "</div>"
      ],
      "text/plain": [
       "Empty DataFrame\n",
       "Columns: [Decimal Latitude, Decimal Longitude, Catalog Number, Scientific Name, Family, Collector, Collector Number, Event Date, Continent, Country, State/Province, County, Locality, Habitat, Collection Code, Institution Code, Modified, ID, Occurrence ID, Collection, Image Size, File Size, Record, Link to this Item, Manifest, Full citation]\n",
       "Index: []\n",
       "\n",
       "[0 rows x 26 columns]"
      ]
     },
     "execution_count": 27,
     "metadata": {},
     "output_type": "execute_result"
    }
   ],
   "source": [
    "ntestdf"
   ]
  },
  {
   "cell_type": "code",
   "execution_count": null,
   "metadata": {},
   "outputs": [],
   "source": []
  }
 ],
 "metadata": {
  "kernelspec": {
   "display_name": "Python 3.8.5 ('base')",
   "language": "python",
   "name": "python3"
  },
  "language_info": {
   "codemirror_mode": {
    "name": "ipython",
    "version": 3
   },
   "file_extension": ".py",
   "mimetype": "text/x-python",
   "name": "python",
   "nbconvert_exporter": "python",
   "pygments_lexer": "ipython3",
   "version": "3.8.5"
  },
  "orig_nbformat": 4,
  "vscode": {
   "interpreter": {
    "hash": "eedb55a3f3d5a08c90a45b02edd9d5201f64a9996f64fdac14a22b56503f46e8"
   }
  }
 },
 "nbformat": 4,
 "nbformat_minor": 2
}
