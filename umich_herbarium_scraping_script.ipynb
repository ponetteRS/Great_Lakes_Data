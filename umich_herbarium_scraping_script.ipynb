{
 "cells": [
  {
   "cell_type": "code",
   "execution_count": 1,
   "metadata": {},
   "outputs": [],
   "source": [
    "#Import Statements\n",
    "import urllib.request, urllib.parse, urllib.error\n",
    "from bs4 import BeautifulSoup\n",
    "import ssl\n",
    "import requests\n",
    "import pandas as pd\n",
    "import selenium\n",
    "from selenium import webdriver\n",
    "from selenium.webdriver.common.keys import Keys\n",
    "from selenium.webdriver.common.by import By\n",
    "import re\n",
    "import time"
   ]
  },
  {
   "cell_type": "code",
   "execution_count": 2,
   "metadata": {},
   "outputs": [],
   "source": [
    "\n",
    "\n",
    "#from selenium.webdriver.firefox.firefox_binary import FirefoxBinary\n",
    "#from selenium import webdriver\n",
    "#firefox_binary = FirefoxBinary()\n",
    "#driver = webdriver.Firefox(firefox_binary=firefox_binary)\n",
    "\n",
    "#driver = webdriver.Firefox()\n",
    "#driver.get(\"http://www.python.org\")\n",
    "#assert \"Python\" in driver.title\n",
    "#elem = driver.find_element(By.NAME, \"q\")\n",
    "#elem.clear()\n",
    "#elem.send_keys(\"pycon\")\n",
    "#elem.send_keys(Keys.RETURN)\n",
    "#assert \"No results found.\" not in driver.page_source\n",
    "#driver.close()"
   ]
  },
  {
   "cell_type": "code",
   "execution_count": 3,
   "metadata": {},
   "outputs": [],
   "source": [
    "#Load Rochelle Data\n",
    "rochelle = pd.read_excel(r\"C:\\Users\\justi\\Downloads\\GLANSIS Spp. Tracking.xlsx\", sheet_name = \"Listed\")\n",
    "#scraped_data_frame = pd.DataFrame() !!!LETS CREATE THE DATA FRAME \n",
    "#rochelle.head\n"
   ]
  },
  {
   "cell_type": "code",
   "execution_count": 4,
   "metadata": {},
   "outputs": [],
   "source": [
    "#rochelle.columns"
   ]
  },
  {
   "cell_type": "code",
   "execution_count": 5,
   "metadata": {},
   "outputs": [],
   "source": [
    "#rochelle.reset_index(inplace = True,drop = True) \n",
    "#name = rochelle.loc[2][\"Scientific Name\"] #for some reason couldn't access rochelle[0]...\n",
    "#print(name)\n"
   ]
  },
  {
   "cell_type": "code",
   "execution_count": 6,
   "metadata": {},
   "outputs": [],
   "source": [
    "# Ignore SSL certificate errors --from Beautiful Soup SI 206 textbook\n",
    "ctx = ssl.create_default_context()\n",
    "ctx.check_hostname = False\n",
    "ctx.verify_mode = ssl.CERT_NONE"
   ]
  },
  {
   "cell_type": "code",
   "execution_count": 7,
   "metadata": {},
   "outputs": [],
   "source": [
    "#DEVELOPMENT EXPLORING --- quick learning about using BS with Herbarium\n",
    "# url = \"https://quod.lib.umich.edu/h/herb00ic/x-1000138/MICH-V-1000138A?lasttype=boolean;lastview=reslist;op2=And;q2=Phragmites+australis+australis;resnum=1;rgn2=ic_all;select2=all;size=50;start=1;subview=detail;view=entry\"\n",
    "#html = urllib.request.urlopen(url, context=ctx).read()\n",
    "#soup = BeautifulSoup(html, 'html.parser')\n",
    "#soup"
   ]
  },
  {
   "cell_type": "code",
   "execution_count": 8,
   "metadata": {},
   "outputs": [],
   "source": [
    "#DEVELOPMENT EXPLORING --- quick learning about using BS with Herbarium\n",
    "#resp = requests.get(url)\n",
    "#newsoup = BeautifulSoup(resp.content, 'html.parser')\n",
    "#iteminfo = soup.find('dl')\n",
    "#print(iteminfo)"
   ]
  },
  {
   "cell_type": "code",
   "execution_count": 9,
   "metadata": {},
   "outputs": [],
   "source": [
    "#accessing search page of the herbarium\n",
    "herbarium_url = \"https://quod.lib.umich.edu/cgi/i/image/image-idx?xc=1;page=searchgroup;g=herb-ic\"\n",
    "herbarium_html = urllib.request.urlopen(herbarium_url, context=ctx).read()\n",
    "#herbarium_html\n"
   ]
  },
  {
   "cell_type": "code",
   "execution_count": 10,
   "metadata": {},
   "outputs": [],
   "source": [
    "#setting up driver for Selenium\n",
    "driver = webdriver.Firefox() #???Should I write a script for multiple Browsers?\n",
    "\n",
    "#send driver to the herbarium website and submit a search query and scrape the amount of results\n",
    "#BE SURE TO SWITCH ALL \"FIND ELEMENTS\" TO XPATH IF PLAUSIBLE?\n",
    "driver.get(herbarium_url)\n",
    "elem = driver.find_element(by = By.NAME, value = 'q1') #Q1 is the first search box?\n",
    "elem.send_keys('Cabomba caroliniana') #Sends in a name from Rochelle's list\n",
    "searchbutton = driver.find_element(by = By.CSS_SELECTOR, value= '#collection-search > button.\\[.button.button--cta.\\]') #selects the advanced search button based off the pulled tag from right clicking the inspected element\n",
    "searchbutton.click()\n",
    "#search_results_url = driver.current_url\n",
    "resultcount = driver.find_element(by = By.CLASS_NAME, value ='results-heading').text\n",
    "#next line returns a list of two numbers like ['23','23']\n",
    "resultcountnumberlist= list(map(int, list(filter(lambda x: x!= '', re.findall(r'\\d*', re.search(r'\\d* of \\d*', resultcount).group()))))) #first number in list is the total results displayed on the page, the second number is the total results\n",
    "resultitem = driver.find_element(by=By.XPATH, value='/html/body/main/div[2]/div[2]/section[1]/a')\n",
    "resultitem.click()\n",
    "\n",
    "#individually select each search result and scrape each matching entry"
   ]
  },
  {
   "cell_type": "code",
   "execution_count": 11,
   "metadata": {},
   "outputs": [
    {
     "name": "stdout",
     "output_type": "stream",
     "text": [
      "Empty\n",
      "Not Empty Anymore\n",
      "Not Empty Anymore\n"
     ]
    }
   ],
   "source": [
    "#driver2 = webdriver.Chrome()\n",
    "scraped_dataframe = pd.DataFrame(index=[0])\n",
    "for result in range(int(resultcountnumberlist[0]))[:3]: #[:-1]: #properly traverses the amount of results on the page\n",
    "    scrapeddata1 = []\n",
    "    scrapeddata2 = []\n",
    "    time.sleep(2)\n",
    "    resp = requests.get(driver.current_url)\n",
    "    #print(resp.content)\n",
    "    newsoup = BeautifulSoup(resp.content, 'html.parser')\n",
    "    collection_category = newsoup.find_all('dt')\n",
    "    collection_data = newsoup.find_all('dd')\n",
    "    for tag in collection_category:\n",
    "        scrapeddata1.append(tag.text)\n",
    "    for tag in collection_data:\n",
    "        scrapeddata2.append(tag.text)\n",
    "    nextbutton = driver.find_element(by=By.XPATH, value='/html/body/main/div[1]/p/a[2]')\n",
    "    nextbutton.click()\n",
    "    scraped_data = dict(zip(scrapeddata1, scrapeddata2))\n",
    "    result_df = pd.DataFrame(data=scraped_data, index=[0])\n",
    "    if scraped_dataframe.empty:\n",
    "        scraped_dataframe = result_df\n",
    "        print('Empty')\n",
    "    else:\n",
    "        scraped_dataframe.append(pd.DataFrame(data = result_df.values))\n",
    "        print('Not Empty Anymore')\n",
    "    #print(result_df)\n",
    "#scraped_dataframe.append(result_df)\n",
    "\n"
   ]
  },
  {
   "cell_type": "code",
   "execution_count": 12,
   "metadata": {},
   "outputs": [
    {
     "data": {
      "text/html": [
       "<div>\n",
       "<style scoped>\n",
       "    .dataframe tbody tr th:only-of-type {\n",
       "        vertical-align: middle;\n",
       "    }\n",
       "\n",
       "    .dataframe tbody tr th {\n",
       "        vertical-align: top;\n",
       "    }\n",
       "\n",
       "    .dataframe thead th {\n",
       "        text-align: right;\n",
       "    }\n",
       "</style>\n",
       "<table border=\"1\" class=\"dataframe\">\n",
       "  <thead>\n",
       "    <tr style=\"text-align: right;\">\n",
       "      <th></th>\n",
       "      <th>Decimal Latitude</th>\n",
       "      <th>Decimal Longitude</th>\n",
       "      <th>Catalog Number</th>\n",
       "      <th>Scientific Name</th>\n",
       "      <th>Family</th>\n",
       "      <th>Identified By</th>\n",
       "      <th>Collector</th>\n",
       "      <th>Collector Number</th>\n",
       "      <th>Event Date</th>\n",
       "      <th>Continent</th>\n",
       "      <th>...</th>\n",
       "      <th>Modified</th>\n",
       "      <th>ID</th>\n",
       "      <th>Occurrence ID</th>\n",
       "      <th>Collection</th>\n",
       "      <th>Image Size</th>\n",
       "      <th>File Size</th>\n",
       "      <th>Record</th>\n",
       "      <th>Link to this Item</th>\n",
       "      <th>Manifest</th>\n",
       "      <th>Full citation</th>\n",
       "    </tr>\n",
       "  </thead>\n",
       "  <tbody>\n",
       "    <tr>\n",
       "      <th>0</th>\n",
       "      <td>44.6617400000</td>\n",
       "      <td>-77.9174900000</td>\n",
       "      <td>1201461</td>\n",
       "      <td>\\nCabomba caroliniana\\n</td>\n",
       "      <td>Cabombaceae</td>\n",
       "      <td>Michael J. Oldham</td>\n",
       "      <td>Michael J. Oldham</td>\n",
       "      <td>22526</td>\n",
       "      <td>1999-07-19</td>\n",
       "      <td>North America</td>\n",
       "      <td>...</td>\n",
       "      <td>2016-3-11</td>\n",
       "      <td>df39a3bd-695e-4d5b-b21e-5586374c08f8</td>\n",
       "      <td>df39a3bd-695e-4d5b-b21e-5586374c08f8</td>\n",
       "      <td>\\nUniversity of Michigan Herbarium Catalog Col...</td>\n",
       "      <td>3753 x 5634</td>\n",
       "      <td>725 KB</td>\n",
       "      <td>1201461</td>\n",
       "      <td>\\n\\nhttps://quod.lib.umich.edu/h/herb00ic/x-12...</td>\n",
       "      <td>\\n\\nhttps://quod.lib.umich.edu/cgi/i/image/api...</td>\n",
       "      <td>\\n\\n\\n\"Cabomba caroliniana\". \\nhttps://quod.li...</td>\n",
       "    </tr>\n",
       "  </tbody>\n",
       "</table>\n",
       "<p>1 rows × 27 columns</p>\n",
       "</div>"
      ],
      "text/plain": [
       "  Decimal Latitude Decimal Longitude Catalog Number          Scientific Name  \\\n",
       "0    44.6617400000    -77.9174900000        1201461  \\nCabomba caroliniana\\n   \n",
       "\n",
       "        Family      Identified By          Collector Collector Number  \\\n",
       "0  Cabombaceae  Michael J. Oldham  Michael J. Oldham            22526   \n",
       "\n",
       "   Event Date      Continent  ...   Modified  \\\n",
       "0  1999-07-19  North America  ...  2016-3-11   \n",
       "\n",
       "                                     ID                         Occurrence ID  \\\n",
       "0  df39a3bd-695e-4d5b-b21e-5586374c08f8  df39a3bd-695e-4d5b-b21e-5586374c08f8   \n",
       "\n",
       "                                          Collection   Image Size File Size  \\\n",
       "0  \\nUniversity of Michigan Herbarium Catalog Col...  3753 x 5634    725 KB   \n",
       "\n",
       "    Record                                  Link to this Item  \\\n",
       "0  1201461  \\n\\nhttps://quod.lib.umich.edu/h/herb00ic/x-12...   \n",
       "\n",
       "                                            Manifest  \\\n",
       "0  \\n\\nhttps://quod.lib.umich.edu/cgi/i/image/api...   \n",
       "\n",
       "                                       Full citation  \n",
       "0  \\n\\n\\n\"Cabomba caroliniana\". \\nhttps://quod.li...  \n",
       "\n",
       "[1 rows x 27 columns]"
      ]
     },
     "execution_count": 12,
     "metadata": {},
     "output_type": "execute_result"
    }
   ],
   "source": [
    "scraped_dataframe"
   ]
  },
  {
   "cell_type": "code",
   "execution_count": 13,
   "metadata": {},
   "outputs": [
    {
     "data": {
      "text/plain": [
       "array([['42.7776300000', '-83.5845300000', '1302380',\n",
       "        '\\nCabomba caroliniana\\n', 'Cabombaceae', 'Anton A. Reznicek',\n",
       "        '10329', '1996-09-04', 'North America', 'USA', 'Michigan',\n",
       "        'Oakland',\n",
       "        'Rattelee Lake, SW 1/4 section 1, T4N R7E, ca. 2 1/2 mi. SE of Holly',\n",
       "        'Shallow water of marly lake.', 'Angiosperms', 'MICH',\n",
       "        '2016-3-10', '172d7185-adbe-483b-b5c1-67be461d43b0',\n",
       "        '172d7185-adbe-483b-b5c1-67be461d43b0',\n",
       "        '\\nUniversity of Michigan Herbarium Catalog Collection\\n',\n",
       "        '3744 x 5616', '794 KB', '1302380',\n",
       "        '\\n\\nhttps://quod.lib.umich.edu/h/herb00ic/x-1302380/mich-v-1302380\\n\\ncontent_copy\\n\\n\\n',\n",
       "        '\\n\\nhttps://quod.lib.umich.edu/cgi/i/image/api/manifest/herb00ic:1302380:MICH-V-1302380\\n\\ncontent_copy\\n\\n\\n',\n",
       "        '\\n\\n\\n\"Cabomba caroliniana\". \\nhttps://quod.lib.umich.edu/h/herb00ic/x-1302380/mich-v-1302380.\\n University of Michigan Library Digital Collections. Accessed February 06, 2023.\\n\\n\\ncontent_copy\\n\\n\\n']],\n",
       "      dtype=object)"
      ]
     },
     "execution_count": 13,
     "metadata": {},
     "output_type": "execute_result"
    }
   ],
   "source": [
    "result_df.values"
   ]
  },
  {
   "cell_type": "code",
   "execution_count": null,
   "metadata": {},
   "outputs": [],
   "source": []
  }
 ],
 "metadata": {
  "kernelspec": {
   "display_name": "Python 3.8.5 ('base')",
   "language": "python",
   "name": "python3"
  },
  "language_info": {
   "codemirror_mode": {
    "name": "ipython",
    "version": 3
   },
   "file_extension": ".py",
   "mimetype": "text/x-python",
   "name": "python",
   "nbconvert_exporter": "python",
   "pygments_lexer": "ipython3",
   "version": "3.8.5"
  },
  "orig_nbformat": 4,
  "vscode": {
   "interpreter": {
    "hash": "eedb55a3f3d5a08c90a45b02edd9d5201f64a9996f64fdac14a22b56503f46e8"
   }
  }
 },
 "nbformat": 4,
 "nbformat_minor": 2
}
