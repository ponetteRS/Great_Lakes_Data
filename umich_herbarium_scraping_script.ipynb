{
 "cells": [
  {
   "cell_type": "code",
   "execution_count": 31,
   "metadata": {},
   "outputs": [],
   "source": [
    "#Import Statements\n",
    "import urllib.request, urllib.parse, urllib.error\n",
    "from bs4 import BeautifulSoup\n",
    "import ssl\n",
    "import requests\n",
    "import pandas as pd\n",
    "import selenium\n",
    "from selenium import webdriver\n",
    "from selenium.webdriver.common.keys import Keys\n",
    "from selenium.webdriver.common.by import By\n",
    "import re\n",
    "import time"
   ]
  },
  {
   "cell_type": "code",
   "execution_count": 3,
   "metadata": {},
   "outputs": [],
   "source": [
    "\n",
    "\n",
    "#from selenium.webdriver.firefox.firefox_binary import FirefoxBinary\n",
    "#from selenium import webdriver\n",
    "#firefox_binary = FirefoxBinary()\n",
    "#driver = webdriver.Firefox(firefox_binary=firefox_binary)\n",
    "\n",
    "#driver = webdriver.Firefox()\n",
    "#driver.get(\"http://www.python.org\")\n",
    "#assert \"Python\" in driver.title\n",
    "#elem = driver.find_element(By.NAME, \"q\")\n",
    "#elem.clear()\n",
    "#elem.send_keys(\"pycon\")\n",
    "#elem.send_keys(Keys.RETURN)\n",
    "#assert \"No results found.\" not in driver.page_source\n",
    "#driver.close()"
   ]
  },
  {
   "cell_type": "code",
   "execution_count": 47,
   "metadata": {},
   "outputs": [],
   "source": [
    "#Load Rochelle Data\n",
    "rochelle = pd.read_excel(r\"C:\\Users\\justi\\Downloads\\GLANSIS Spp. Tracking.xlsx\", sheet_name = \"Listed\")\n",
    "scraped_data_frame = pd.DataFrame()\n",
    "#rochelle.head\n"
   ]
  },
  {
   "cell_type": "code",
   "execution_count": 44,
   "metadata": {},
   "outputs": [],
   "source": [
    "#rochelle.columns"
   ]
  },
  {
   "cell_type": "code",
   "execution_count": 28,
   "metadata": {},
   "outputs": [
    {
     "name": "stdout",
     "output_type": "stream",
     "text": [
      "Phragmites australis\n"
     ]
    }
   ],
   "source": [
    "#rochelle.reset_index(inplace = True,drop = True) \n",
    "#name = rochelle.loc[2][\"Scientific Name\"] #for some reason couldn't access rochelle[0]...\n",
    "#print(name)\n"
   ]
  },
  {
   "cell_type": "code",
   "execution_count": 7,
   "metadata": {},
   "outputs": [],
   "source": [
    "# Ignore SSL certificate errors --from Beautiful Soup SI 206 textbook\n",
    "ctx = ssl.create_default_context()\n",
    "ctx.check_hostname = False\n",
    "ctx.verify_mode = ssl.CERT_NONE"
   ]
  },
  {
   "cell_type": "code",
   "execution_count": 8,
   "metadata": {},
   "outputs": [],
   "source": [
    "#DEVELOPMENT EXPLORING --- quick learning about using BS with Herbarium\n",
    "# url = \"https://quod.lib.umich.edu/h/herb00ic/x-1000138/MICH-V-1000138A?lasttype=boolean;lastview=reslist;op2=And;q2=Phragmites+australis+australis;resnum=1;rgn2=ic_all;select2=all;size=50;start=1;subview=detail;view=entry\"\n",
    "#html = urllib.request.urlopen(url, context=ctx).read()\n",
    "#soup = BeautifulSoup(html, 'html.parser')\n",
    "#soup"
   ]
  },
  {
   "cell_type": "code",
   "execution_count": 9,
   "metadata": {},
   "outputs": [],
   "source": [
    "#DEVELOPMENT EXPLORING --- quick learning about using BS with Herbarium\n",
    "#resp = requests.get(url)\n",
    "#newsoup = BeautifulSoup(resp.content, 'html.parser')\n",
    "#iteminfo = soup.find('dl')\n",
    "#print(iteminfo)"
   ]
  },
  {
   "cell_type": "code",
   "execution_count": 10,
   "metadata": {},
   "outputs": [],
   "source": [
    "#accessing search page of the herbarium\n",
    "herbarium_url = \"https://quod.lib.umich.edu/cgi/i/image/image-idx?xc=1;page=searchgroup;g=herb-ic\"\n",
    "herbarium_html = urllib.request.urlopen(herbarium_url, context=ctx).read()\n",
    "#herbarium_html\n"
   ]
  },
  {
   "cell_type": "code",
   "execution_count": 79,
   "metadata": {},
   "outputs": [
    {
     "data": {
      "text/plain": [
       "\"\\nif resultcountnumberlist[1]<= 50:\\n    for result in range(int(resultcountnumberlist[0])): #properly traverses the amount of results on the page\\n        #print(result)\\n        #resultitem = driver.find_element(by = By.CSS_SELECTOR, value='#maincontent > div.\\\\[.flex.flex-flow-rw.\\\\]\\\\[.flex-gap-1.\\\\] > div.main-panel > section:nth-child(4) > a')\\n        resultitem = driver.find_element(by=By.XPATH, value='/html/body/main/div[2]/div[2]/section['+str(result+1) +']/a')\\n        resultitem.click()\\n        #driver.switch_to.window(driver.window_handles[1])\\n        #driver.get(search_results_url)\\n\\n        ####scrape data\\n        ####return back to results\\nelif resultcountnumberlist[1]>50:\\n    print('There is More than One Page of Results')\\n    \\n\\n#individually select each search result and scrape each matching entry\""
      ]
     },
     "execution_count": 79,
     "metadata": {},
     "output_type": "execute_result"
    }
   ],
   "source": [
    "#setting up driver for Selenium\n",
    "driver = webdriver.Firefox() #???Should I write a script for multiple Browsers?\n",
    "\n",
    "#send driver to the herbarium website and submit a search query and scrape the amount of results\n",
    "#BE SURE TO SWITCH ALL \"FIND ELEMENTS\" TO XPATH IF PLAUSIBLE?\n",
    "driver.get(herbarium_url)\n",
    "elem = driver.find_element(by = By.NAME, value = 'q1') #Q1 is the first search box?\n",
    "elem.send_keys('Cabomba caroliniana') #Sends in a name from Rochelle's list\n",
    "searchbutton = driver.find_element(by = By.CSS_SELECTOR, value= '#collection-search > button.\\[.button.button--cta.\\]') #selects the advanced search button based off the pulled tag from right clicking the inspected element\n",
    "searchbutton.click()\n",
    "#search_results_url = driver.current_url\n",
    "resultcount = driver.find_element(by = By.CLASS_NAME, value ='results-heading').text\n",
    "#next line returns a list of two numbers like ['23','23']\n",
    "resultcountnumberlist= list(map(int, list(filter(lambda x: x!= '', re.findall(r'\\d*', re.search(r'\\d* of \\d*', resultcount).group()))))) #first number in list is the total results displayed on the page, the second number is the total results\n",
    "resultitem = driver.find_element(by=By.XPATH, value='/html/body/main/div[2]/div[2]/section[1]/a')\n",
    "resultitem.click()\n",
    "\n",
    "\n",
    "\n",
    "'''\n",
    "if resultcountnumberlist[1]<= 50:\n",
    "    for result in range(int(resultcountnumberlist[0])): #properly traverses the amount of results on the page\n",
    "        #print(result)\n",
    "        #resultitem = driver.find_element(by = By.CSS_SELECTOR, value='#maincontent > div.\\[.flex.flex-flow-rw.\\]\\[.flex-gap-1.\\] > div.main-panel > section:nth-child(4) > a')\n",
    "        resultitem = driver.find_element(by=By.XPATH, value='/html/body/main/div[2]/div[2]/section['+str(result+1) +']/a')\n",
    "        resultitem.click()\n",
    "        #driver.switch_to.window(driver.window_handles[1])\n",
    "        #driver.get(search_results_url)\n",
    "\n",
    "        ####scrape data\n",
    "        ####return back to results\n",
    "elif resultcountnumberlist[1]>50:\n",
    "    print('There is More than One Page of Results')\n",
    "    \n",
    "\n",
    "#individually select each search result and scrape each matching entry'''"
   ]
  },
  {
   "cell_type": "code",
   "execution_count": 107,
   "metadata": {},
   "outputs": [],
   "source": [
    "#driver2 = webdriver.Chrome()\n",
    "for result in range(int(resultcountnumberlist[0]))[:1]: #[:-1]: #properly traverses the amount of results on the page\n",
    "    time.sleep(2)\n",
    "    resp = requests.get(driver.current_url)\n",
    "    #print(resp.content)\n",
    "    newsoup = BeautifulSoup(resp.content, 'html.parser')\n",
    "    collection_category = newsoup.find_all('dt')\n",
    "    collection_data = newsoup.find_all('dd')\n",
    "\n",
    "    nextbutton = driver.find_element(by=By.XPATH, value='/html/body/main/div[1]/p/a[2]')\n",
    "    nextbutton.click()"
   ]
  },
  {
   "cell_type": "code",
   "execution_count": 111,
   "metadata": {},
   "outputs": [
    {
     "name": "stdout",
     "output_type": "stream",
     "text": [
      "[<dt data-key=\"catalognumber\">Catalog Number</dt>, <dt data-key=\"scientificname\">Scientific Name</dt>, <dt data-key=\"family\">Family</dt>, <dt data-key=\"recordedby\">Collector</dt>, <dt data-key=\"recordnumber\">Collector Number</dt>, <dt data-key=\"eventdate\">Event Date</dt>, <dt data-key=\"continent\">Continent</dt>, <dt data-key=\"country\">Country</dt>, <dt data-key=\"stateprovince\">State/Province</dt>, <dt data-key=\"county\">County</dt>, <dt data-key=\"locality\">Locality</dt>, <dt data-key=\"collectioncode\">Collection Code</dt>, <dt data-key=\"institutioncode\">Institution Code</dt>, <dt data-key=\"herb_modified\">Modified</dt>, <dt data-key=\"id\">ID</dt>, <dt data-key=\"occurrenceid\">Occurrence ID</dt>, <dt data-key=\"collection\">Collection</dt>, <dt data-key=\"image_size\">Image Size</dt>, <dt data-key=\"reported_size\">File Size</dt>, <dt data-key=\"m_id\">Record</dt>, <dt data-key=\"bookmark\">Link to this Item</dt>, <dt>Manifest</dt>, <dt>Full citation</dt>]\n"
     ]
    }
   ],
   "source": [
    "print(collection_category)"
   ]
  },
  {
   "cell_type": "code",
   "execution_count": 77,
   "metadata": {},
   "outputs": [
    {
     "ename": "TypeError",
     "evalue": "list indices must be integers or slices, not str",
     "output_type": "error",
     "traceback": [
      "\u001b[1;31m---------------------------------------------------------------------------\u001b[0m",
      "\u001b[1;31mTypeError\u001b[0m                                 Traceback (most recent call last)",
      "\u001b[1;32m<ipython-input-77-0416959c214a>\u001b[0m in \u001b[0;36m<module>\u001b[1;34m\u001b[0m\n\u001b[1;32m----> 1\u001b[1;33m \u001b[0miteminfo\u001b[0m\u001b[1;33m[\u001b[0m\u001b[1;34m'data-key'\u001b[0m\u001b[1;33m]\u001b[0m\u001b[1;33m\u001b[0m\u001b[1;33m\u001b[0m\u001b[0m\n\u001b[0m",
      "\u001b[1;31mTypeError\u001b[0m: list indices must be integers or slices, not str"
     ]
    }
   ],
   "source": []
  },
  {
   "cell_type": "code",
   "execution_count": null,
   "metadata": {},
   "outputs": [],
   "source": []
  }
 ],
 "metadata": {
  "kernelspec": {
   "display_name": "Python 3.8.5 ('base')",
   "language": "python",
   "name": "python3"
  },
  "language_info": {
   "codemirror_mode": {
    "name": "ipython",
    "version": 3
   },
   "file_extension": ".py",
   "mimetype": "text/x-python",
   "name": "python",
   "nbconvert_exporter": "python",
   "pygments_lexer": "ipython3",
   "version": "3.8.5"
  },
  "orig_nbformat": 4,
  "vscode": {
   "interpreter": {
    "hash": "eedb55a3f3d5a08c90a45b02edd9d5201f64a9996f64fdac14a22b56503f46e8"
   }
  }
 },
 "nbformat": 4,
 "nbformat_minor": 2
}
