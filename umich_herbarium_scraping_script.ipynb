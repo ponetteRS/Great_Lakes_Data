{
 "cells": [
  {
   "cell_type": "code",
   "execution_count": 1,
   "metadata": {},
   "outputs": [],
   "source": [
    "#Import Statements\n",
    "import urllib.request, urllib.parse, urllib.error\n",
    "from bs4 import BeautifulSoup\n",
    "import ssl\n",
    "import requests\n",
    "import pandas as pd\n",
    "import selenium\n",
    "from selenium import webdriver\n",
    "from selenium.webdriver.common.keys import Keys\n",
    "from selenium.webdriver.common.by import By\n",
    "import re\n",
    "import time"
   ]
  },
  {
   "cell_type": "code",
   "execution_count": 2,
   "metadata": {},
   "outputs": [],
   "source": [
    "\n",
    "\n",
    "#from selenium.webdriver.firefox.firefox_binary import FirefoxBinary\n",
    "#from selenium import webdriver\n",
    "#firefox_binary = FirefoxBinary()\n",
    "#driver = webdriver.Firefox(firefox_binary=firefox_binary)\n",
    "\n",
    "#driver = webdriver.Firefox()\n",
    "#driver.get(\"http://www.python.org\")\n",
    "#assert \"Python\" in driver.title\n",
    "#elem = driver.find_element(By.NAME, \"q\")\n",
    "#elem.clear()\n",
    "#elem.send_keys(\"pycon\")\n",
    "#elem.send_keys(Keys.RETURN)\n",
    "#assert \"No results found.\" not in driver.page_source\n",
    "#driver.close()"
   ]
  },
  {
   "cell_type": "code",
   "execution_count": 47,
   "metadata": {},
   "outputs": [],
   "source": [
    "#Load Rochelle Data\n",
    "rochelle = pd.read_excel(r\"C:\\Users\\justi\\Downloads\\GLANSIS Spp. Tracking.xlsx\", sheet_name = \"Listed\")\n",
    "#scraped_data_frame = pd.DataFrame() !!!LETS CREATE THE DATA FRAME \n",
    "#rochelle.head\n"
   ]
  },
  {
   "cell_type": "code",
   "execution_count": 4,
   "metadata": {},
   "outputs": [],
   "source": [
    "#rochelle.columns"
   ]
  },
  {
   "cell_type": "code",
   "execution_count": 5,
   "metadata": {},
   "outputs": [],
   "source": [
    "#rochelle.reset_index(inplace = True,drop = True) \n",
    "#name = rochelle.loc[2][\"Scientific Name\"] #for some reason couldn't access rochelle[0]...\n",
    "#print(name)\n"
   ]
  },
  {
   "cell_type": "code",
   "execution_count": 6,
   "metadata": {},
   "outputs": [],
   "source": [
    "# Ignore SSL certificate errors --from Beautiful Soup SI 206 textbook\n",
    "ctx = ssl.create_default_context()\n",
    "ctx.check_hostname = False\n",
    "ctx.verify_mode = ssl.CERT_NONE"
   ]
  },
  {
   "cell_type": "code",
   "execution_count": 7,
   "metadata": {},
   "outputs": [],
   "source": [
    "#DEVELOPMENT EXPLORING --- quick learning about using BS with Herbarium\n",
    "# url = \"https://quod.lib.umich.edu/h/herb00ic/x-1000138/MICH-V-1000138A?lasttype=boolean;lastview=reslist;op2=And;q2=Phragmites+australis+australis;resnum=1;rgn2=ic_all;select2=all;size=50;start=1;subview=detail;view=entry\"\n",
    "#html = urllib.request.urlopen(url, context=ctx).read()\n",
    "#soup = BeautifulSoup(html, 'html.parser')\n",
    "#soup"
   ]
  },
  {
   "cell_type": "code",
   "execution_count": 8,
   "metadata": {},
   "outputs": [],
   "source": [
    "#DEVELOPMENT EXPLORING --- quick learning about using BS with Herbarium\n",
    "#resp = requests.get(url)\n",
    "#newsoup = BeautifulSoup(resp.content, 'html.parser')\n",
    "#iteminfo = soup.find('dl')\n",
    "#print(iteminfo)"
   ]
  },
  {
   "cell_type": "code",
   "execution_count": 9,
   "metadata": {},
   "outputs": [],
   "source": [
    "#accessing search page of the herbarium\n",
    "herbarium_url = \"https://quod.lib.umich.edu/cgi/i/image/image-idx?xc=1;page=searchgroup;g=herb-ic\"\n",
    "herbarium_html = urllib.request.urlopen(herbarium_url, context=ctx).read()\n",
    "#herbarium_html\n"
   ]
  },
  {
   "cell_type": "code",
   "execution_count": 42,
   "metadata": {},
   "outputs": [],
   "source": [
    "#setting up driver for Selenium\n",
    "driver = webdriver.Firefox() #???Should I write a script for multiple Browsers?\n",
    "\n",
    "#send driver to the herbarium website and submit a search query and scrape the amount of results\n",
    "#BE SURE TO SWITCH ALL \"FIND ELEMENTS\" TO XPATH IF PLAUSIBLE?\n",
    "driver.get(herbarium_url)\n",
    "elem = driver.find_element(by = By.NAME, value = 'q1') #Q1 is the first search box?\n",
    "elem.send_keys('Cabomba caroliniana') #Sends in a name from Rochelle's list\n",
    "searchbutton = driver.find_element(by = By.CSS_SELECTOR, value= '#collection-search > button.\\[.button.button--cta.\\]') #selects the advanced search button based off the pulled tag from right clicking the inspected element\n",
    "searchbutton.click()\n",
    "#search_results_url = driver.current_url\n",
    "resultcount = driver.find_element(by = By.CLASS_NAME, value ='results-heading').text\n",
    "#next line returns a list of two numbers like ['23','23']\n",
    "resultcountnumberlist= list(map(int, list(filter(lambda x: x!= '', re.findall(r'\\d*', re.search(r'\\d* of \\d*', resultcount).group()))))) #first number in list is the total results displayed on the page, the second number is the total results\n",
    "resultitem = driver.find_element(by=By.XPATH, value='/html/body/main/div[2]/div[2]/section[1]/a')\n",
    "resultitem.click()\n",
    "\n",
    "\n",
    "\n",
    "\n",
    "#if resultcountnumberlist[1]<= 50:\n",
    "#    for result in range(int(resultcountnumberlist[0])): #properly traverses the amount of results on the page\n",
    "        #print(result)\n",
    "        #resultitem = driver.find_element(by = By.CSS_SELECTOR, value='#maincontent > div.\\[.flex.flex-flow-rw.\\]\\[.flex-gap-1.\\] > div.main-panel > section:nth-child(4) > a')\n",
    "#        resultitem = driver.find_element(by=By.XPATH, value='/html/body/main/div[2]/div[2]/section['+str(result+1) +']/a')\n",
    "#        resultitem.click()\n",
    "        #driver.switch_to.window(driver.window_handles[1])\n",
    "        #driver.get(search_results_url)\n",
    "\n",
    "        ####scrape data\n",
    "        ####return back to results\n",
    "#elif resultcountnumberlist[1]>50:\n",
    "#    print('There is More than One Page of Results')\n",
    "    \n",
    "\n",
    "#individually select each search result and scrape each matching entry"
   ]
  },
  {
   "cell_type": "code",
   "execution_count": 43,
   "metadata": {},
   "outputs": [],
   "source": [
    "#driver2 = webdriver.Chrome()\n",
    "scrapeddata1 = []\n",
    "scrapeddata2 = []\n",
    "for result in range(int(resultcountnumberlist[0]))[:1]: #[:-1]: #properly traverses the amount of results on the page\n",
    "    time.sleep(2)\n",
    "    resp = requests.get(driver.current_url)\n",
    "    #print(resp.content)\n",
    "    newsoup = BeautifulSoup(resp.content, 'html.parser')\n",
    "    collection_category = newsoup.find_all('dt')\n",
    "    collection_data = newsoup.find_all('dd')\n",
    "    for tag in collection_category:\n",
    "        scrapeddata1.append(tag.text)\n",
    "    for tag in collection_data:\n",
    "        scrapeddata2.append(tag.text)\n",
    "    nextbutton = driver.find_element(by=By.XPATH, value='/html/body/main/div[1]/p/a[2]')\n",
    "    nextbutton.click()\n"
   ]
  },
  {
   "cell_type": "code",
   "execution_count": 44,
   "metadata": {},
   "outputs": [
    {
     "name": "stdout",
     "output_type": "stream",
     "text": [
      "{'Decimal Latitude': '44.6617400000', 'Decimal Longitude': '-77.9174900000', 'Catalog Number': '1201461', 'Scientific Name': '\\nCabomba caroliniana\\n', 'Family': 'Cabombaceae', 'Identified By': 'Michael J. Oldham', 'Collector': 'Michael J. Oldham', 'Collector Number': '22526', 'Event Date': '1999-07-19', 'Continent': 'North America', 'Country': 'Canada', 'State/Province': 'Ontario', 'County': 'Peterborough', 'Locality': 'Methuen Twp., Bass Bay, Kasshabog Lake', 'Habitat': 'shallow bay of lake', 'Collection Code': 'Angiosperms', 'Institution Code': 'MICH', 'Modified': '2016-3-11', 'ID': 'df39a3bd-695e-4d5b-b21e-5586374c08f8', 'Occurrence ID': 'df39a3bd-695e-4d5b-b21e-5586374c08f8', 'Collection': '\\nUniversity of Michigan Herbarium Catalog Collection\\n', 'Image Size': '3753 x 5634', 'File Size': '725 KB', 'Record': '1201461', 'Link to this Item': '\\n\\nhttps://quod.lib.umich.edu/h/herb00ic/x-1201461/mich-v-1201461\\n\\ncontent_copy\\n\\n\\n', 'Manifest': '\\n\\nhttps://quod.lib.umich.edu/cgi/i/image/api/manifest/herb00ic:1201461:MICH-V-1201461\\n\\ncontent_copy\\n\\n\\n', 'Full citation': '\\n\\n\\n\"Cabomba caroliniana\". \\nhttps://quod.lib.umich.edu/h/herb00ic/x-1201461/mich-v-1201461.\\n University of Michigan Library Digital Collections. Accessed February 06, 2023.\\n\\n\\ncontent_copy\\n\\n\\n'}\n"
     ]
    }
   ],
   "source": [
    "scraped_data = dict(zip(scrapeddata1, scrapeddata2))\n",
    "print(scraped_data)"
   ]
  },
  {
   "cell_type": "code",
   "execution_count": 46,
   "metadata": {},
   "outputs": [
    {
     "name": "stdout",
     "output_type": "stream",
     "text": [
      "Empty DataFrame\n",
      "Columns: []\n",
      "Index: []\n"
     ]
    }
   ],
   "source": [
    "print(scraped_data_frame)"
   ]
  },
  {
   "cell_type": "code",
   "execution_count": null,
   "metadata": {},
   "outputs": [],
   "source": []
  }
 ],
 "metadata": {
  "kernelspec": {
   "display_name": "Python 3.8.5 ('base')",
   "language": "python",
   "name": "python3"
  },
  "language_info": {
   "codemirror_mode": {
    "name": "ipython",
    "version": 3
   },
   "file_extension": ".py",
   "mimetype": "text/x-python",
   "name": "python",
   "nbconvert_exporter": "python",
   "pygments_lexer": "ipython3",
   "version": "3.8.5"
  },
  "orig_nbformat": 4,
  "vscode": {
   "interpreter": {
    "hash": "eedb55a3f3d5a08c90a45b02edd9d5201f64a9996f64fdac14a22b56503f46e8"
   }
  }
 },
 "nbformat": 4,
 "nbformat_minor": 2
}
