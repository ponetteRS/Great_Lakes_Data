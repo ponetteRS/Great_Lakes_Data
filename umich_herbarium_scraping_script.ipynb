{
 "cells": [
  {
   "cell_type": "code",
   "execution_count": 1,
   "metadata": {},
   "outputs": [],
   "source": [
    "#Import Statements\n",
    "import urllib.request, urllib.parse, urllib.error\n",
    "from bs4 import BeautifulSoup\n",
    "import ssl\n",
    "import requests\n",
    "import pandas as pd\n",
    "import selenium\n",
    "from selenium import webdriver\n",
    "from selenium.webdriver.common.keys import Keys\n",
    "from selenium.webdriver.common.by import By\n",
    "import re\n",
    "import time\n",
    "\n",
    "from selenium.webdriver.support.ui import WebDriverWait       \n",
    "from selenium.webdriver.common.by import By       \n",
    "from selenium.webdriver.support import expected_conditions as EC"
   ]
  },
  {
   "cell_type": "code",
   "execution_count": 2,
   "metadata": {},
   "outputs": [],
   "source": [
    "\n",
    "\n",
    "#from selenium.webdriver.firefox.firefox_binary import FirefoxBinary\n",
    "#from selenium import webdriver\n",
    "#firefox_binary = FirefoxBinary()\n",
    "#driver = webdriver.Firefox(firefox_binary=firefox_binary)\n",
    "\n",
    "#driver = webdriver.Firefox()\n",
    "#driver.get(\"http://www.python.org\")\n",
    "#assert \"Python\" in driver.title\n",
    "#elem = driver.find_element(By.NAME, \"q\")\n",
    "#elem.clear()\n",
    "#elem.send_keys(\"pycon\")\n",
    "#elem.send_keys(Keys.RETURN)\n",
    "#assert \"No results found.\" not in driver.page_source\n",
    "#driver.close()"
   ]
  },
  {
   "cell_type": "code",
   "execution_count": 3,
   "metadata": {},
   "outputs": [
    {
     "data": {
      "text/html": [
       "<div>\n",
       "<style scoped>\n",
       "    .dataframe tbody tr th:only-of-type {\n",
       "        vertical-align: middle;\n",
       "    }\n",
       "\n",
       "    .dataframe tbody tr th {\n",
       "        vertical-align: top;\n",
       "    }\n",
       "\n",
       "    .dataframe thead th {\n",
       "        text-align: right;\n",
       "    }\n",
       "</style>\n",
       "<table border=\"1\" class=\"dataframe\">\n",
       "  <thead>\n",
       "    <tr style=\"text-align: right;\">\n",
       "      <th></th>\n",
       "      <th>Scientific Name</th>\n",
       "      <th>Taxon</th>\n",
       "      <th>List</th>\n",
       "      <th>GLANSIS Authors</th>\n",
       "      <th>Assessment Documented</th>\n",
       "      <th>Review by:</th>\n",
       "      <th>Shared with USGS</th>\n",
       "      <th>NOAA EndNote Library Status</th>\n",
       "      <th>Assigned to</th>\n",
       "      <th>Action Needed</th>\n",
       "      <th>...</th>\n",
       "      <th>Review Status</th>\n",
       "      <th>Internal NOAA Reviewer(s)</th>\n",
       "      <th>USGS Reviewer?</th>\n",
       "      <th>Past External Reviewers</th>\n",
       "      <th>New External Reviewers</th>\n",
       "      <th>Review complete and Cleared to post</th>\n",
       "      <th>Date Profile Last Updated  (Posted online)</th>\n",
       "      <th>Last Review Date (GLANSIS Records)</th>\n",
       "      <th>OIA/RA Posted to Clearinghouse</th>\n",
       "      <th>Twitter</th>\n",
       "    </tr>\n",
       "  </thead>\n",
       "  <tbody>\n",
       "    <tr>\n",
       "      <th>0</th>\n",
       "      <td>Cabomba caroliniana</td>\n",
       "      <td>Plants (S)</td>\n",
       "      <td>Established</td>\n",
       "      <td>Larson, Cao, Berent, Iott</td>\n",
       "      <td>TM161</td>\n",
       "      <td>2021.0</td>\n",
       "      <td>Y</td>\n",
       "      <td>5 year - Received 8/9/2022</td>\n",
       "      <td>EL</td>\n",
       "      <td>None</td>\n",
       "      <td>...</td>\n",
       "      <td>NaN</td>\n",
       "      <td>RS</td>\n",
       "      <td>NaN</td>\n",
       "      <td>Gannon</td>\n",
       "      <td>NaN</td>\n",
       "      <td>NaN</td>\n",
       "      <td>2016-07-25 00:00:00</td>\n",
       "      <td>NaN</td>\n",
       "      <td>NaN</td>\n",
       "      <td>NaN</td>\n",
       "    </tr>\n",
       "    <tr>\n",
       "      <th>1</th>\n",
       "      <td>Myriophyllum spicatum</td>\n",
       "      <td>Plants (S)</td>\n",
       "      <td>Established</td>\n",
       "      <td>Berent</td>\n",
       "      <td>TM161</td>\n",
       "      <td>2021.0</td>\n",
       "      <td>Y</td>\n",
       "      <td>5 year delivered 3/4/2022</td>\n",
       "      <td>EL</td>\n",
       "      <td>add link to sibiricum x spicatum.  Check refer...</td>\n",
       "      <td>...</td>\n",
       "      <td>NaN</td>\n",
       "      <td>NaN</td>\n",
       "      <td>NaN</td>\n",
       "      <td>Dennis Albert</td>\n",
       "      <td>NaN</td>\n",
       "      <td>NaN</td>\n",
       "      <td>2016-03-21 00:00:00</td>\n",
       "      <td>NaN</td>\n",
       "      <td>NaN</td>\n",
       "      <td>NaN</td>\n",
       "    </tr>\n",
       "    <tr>\n",
       "      <th>2</th>\n",
       "      <td>Phragmites australis</td>\n",
       "      <td>Plants (E)</td>\n",
       "      <td>Established</td>\n",
       "      <td>Sturtevant, Fusaro, Conard, Iott</td>\n",
       "      <td>TM161b</td>\n",
       "      <td>2021.0</td>\n",
       "      <td>Y</td>\n",
       "      <td>NaN</td>\n",
       "      <td>El</td>\n",
       "      <td>None</td>\n",
       "      <td>...</td>\n",
       "      <td>NaN</td>\n",
       "      <td>NaN</td>\n",
       "      <td>NaN</td>\n",
       "      <td>S. Galatowitsch</td>\n",
       "      <td>NaN</td>\n",
       "      <td>NaN</td>\n",
       "      <td>Complete</td>\n",
       "      <td>NaN</td>\n",
       "      <td>NaN</td>\n",
       "      <td>NaN</td>\n",
       "    </tr>\n",
       "    <tr>\n",
       "      <th>3</th>\n",
       "      <td>Nymphoides peltata</td>\n",
       "      <td>Plants (S)</td>\n",
       "      <td>Established</td>\n",
       "      <td>Berent</td>\n",
       "      <td>TM161</td>\n",
       "      <td>2021.0</td>\n",
       "      <td>Y</td>\n",
       "      <td>5 year delivered 8/19/2022</td>\n",
       "      <td>EL</td>\n",
       "      <td>Check references are in NAS.</td>\n",
       "      <td>...</td>\n",
       "      <td>NaN</td>\n",
       "      <td>NaN</td>\n",
       "      <td>NaN</td>\n",
       "      <td>Selheimer</td>\n",
       "      <td>NaN</td>\n",
       "      <td>NaN</td>\n",
       "      <td>2016-03-23 00:00:00</td>\n",
       "      <td>NaN</td>\n",
       "      <td>NaN</td>\n",
       "      <td>NaN</td>\n",
       "    </tr>\n",
       "    <tr>\n",
       "      <th>4</th>\n",
       "      <td>Potamogeton crispus</td>\n",
       "      <td>Plants (S)</td>\n",
       "      <td>Established</td>\n",
       "      <td>Cao, Berent</td>\n",
       "      <td>TM161</td>\n",
       "      <td>2021.0</td>\n",
       "      <td>Y</td>\n",
       "      <td>5 year delivered 9/13/2022</td>\n",
       "      <td>EL</td>\n",
       "      <td>Check references are in NAS.</td>\n",
       "      <td>...</td>\n",
       "      <td>NaN</td>\n",
       "      <td>NaN</td>\n",
       "      <td>NaN</td>\n",
       "      <td>Selheimer</td>\n",
       "      <td>NaN</td>\n",
       "      <td>NaN</td>\n",
       "      <td>2016-03-18 00:00:00</td>\n",
       "      <td>NaN</td>\n",
       "      <td>NaN</td>\n",
       "      <td>NaN</td>\n",
       "    </tr>\n",
       "  </tbody>\n",
       "</table>\n",
       "<p>5 rows × 29 columns</p>\n",
       "</div>"
      ],
      "text/plain": [
       "         Scientific Name       Taxon         List  \\\n",
       "0    Cabomba caroliniana  Plants (S)  Established   \n",
       "1  Myriophyllum spicatum  Plants (S)  Established   \n",
       "2   Phragmites australis  Plants (E)  Established   \n",
       "3     Nymphoides peltata  Plants (S)  Established   \n",
       "4    Potamogeton crispus  Plants (S)  Established   \n",
       "\n",
       "                    GLANSIS Authors Assessment Documented  Review by:  \\\n",
       "0         Larson, Cao, Berent, Iott                 TM161      2021.0   \n",
       "1                            Berent                 TM161      2021.0   \n",
       "2  Sturtevant, Fusaro, Conard, Iott                TM161b      2021.0   \n",
       "3                            Berent                 TM161      2021.0   \n",
       "4                       Cao, Berent                 TM161      2021.0   \n",
       "\n",
       "  Shared with USGS NOAA EndNote Library Status Assigned to  \\\n",
       "0                Y  5 year - Received 8/9/2022          EL   \n",
       "1                Y   5 year delivered 3/4/2022          EL   \n",
       "2                Y                         NaN          El   \n",
       "3                Y  5 year delivered 8/19/2022         EL    \n",
       "4                Y  5 year delivered 9/13/2022         EL    \n",
       "\n",
       "                                       Action Needed  ... Review Status  \\\n",
       "0                                              None   ...           NaN   \n",
       "1  add link to sibiricum x spicatum.  Check refer...  ...           NaN   \n",
       "2                                               None  ...           NaN   \n",
       "3                      Check references are in NAS.   ...           NaN   \n",
       "4                     Check references are in NAS.    ...           NaN   \n",
       "\n",
       "   Internal NOAA Reviewer(s) USGS Reviewer? Past External Reviewers  \\\n",
       "0                         RS            NaN                  Gannon   \n",
       "1                        NaN            NaN           Dennis Albert   \n",
       "2                        NaN            NaN         S. Galatowitsch   \n",
       "3                        NaN            NaN               Selheimer   \n",
       "4                        NaN            NaN               Selheimer   \n",
       "\n",
       "  New External Reviewers Review complete and Cleared to post  \\\n",
       "0                    NaN                                 NaN   \n",
       "1                    NaN                                 NaN   \n",
       "2                    NaN                                 NaN   \n",
       "3                    NaN                                 NaN   \n",
       "4                    NaN                                 NaN   \n",
       "\n",
       "   Date Profile Last Updated  (Posted online)  \\\n",
       "0                         2016-07-25 00:00:00   \n",
       "1                         2016-03-21 00:00:00   \n",
       "2                                    Complete   \n",
       "3                         2016-03-23 00:00:00   \n",
       "4                         2016-03-18 00:00:00   \n",
       "\n",
       "  Last Review Date (GLANSIS Records) OIA/RA Posted to Clearinghouse Twitter  \n",
       "0                                NaN                            NaN     NaN  \n",
       "1                                NaN                            NaN     NaN  \n",
       "2                                NaN                            NaN     NaN  \n",
       "3                                NaN                            NaN     NaN  \n",
       "4                                NaN                            NaN     NaN  \n",
       "\n",
       "[5 rows x 29 columns]"
      ]
     },
     "execution_count": 3,
     "metadata": {},
     "output_type": "execute_result"
    }
   ],
   "source": [
    "#Load Rochelle Data\n",
    "rochelle = pd.read_excel(r\"C:\\Users\\justi\\Downloads\\GLANSIS Spp. Tracking.xlsx\", sheet_name = \"Listed\")\n",
    "#scraped_data_frame = pd.DataFrame() !!!LETS CREATE THE DATA FRAME \n",
    "rochelle.head()\n"
   ]
  },
  {
   "cell_type": "code",
   "execution_count": 4,
   "metadata": {},
   "outputs": [
    {
     "name": "stdout",
     "output_type": "stream",
     "text": [
      "['Cabomba caroliniana', 'Myriophyllum spicatum', 'Phragmites australis', 'Nymphoides peltata', 'Potamogeton crispus', 'Trapa natans', 'Corbicula fluminea', 'Gambusia affinis', 'Pimephales vigilax', 'Crassula helmsii', 'Pistia stratiotes', 'Stratiotes aloides', 'Veronica beccabunga', 'Rhithropanopeus harrisi', 'Thermocyclops crassus', 'Cherax destructor', 'Hypophthalmichthys molitrix', 'Hypophthalmichthys nobilis', 'Lepomis auritus', 'Limnoperna fortunei', 'Alnus glutinosa', 'Apeltes quadracus', 'Arundo donax', 'Branchiura sowerbyi', 'Channa argus', 'Cipangopaludina japonica', 'Cyclops strenuus', 'Didymosphenia geminata', 'Discostella (Cyclotella) pseudostelligera', 'Leuciscus idus', 'Neoergasilus japonicus', 'Procambarus clarkii', 'Psammonobiotus communis', 'Psammonobiotus dziwnowi', 'Psammonobiotus linearis', 'Syngnathus abaster', 'Agrostis gigantea', 'Butomus umbellatus', 'Carassius carassius', 'Carex acutiformis', 'Carex disticha', 'Chenopodium glaucum (Oxybasis glauca)', 'Cirsium palustre', 'Conium maculatum', 'Cyprinella whipplei', 'Dorosoma cepedianum', 'Egeria densa', 'Eichhornia crassipes', 'Epilobium hirsutum', 'Esox masquinongy', 'Frangula alnus  (Rhamnus frangula)', 'Glyceria maxima', 'Hemimysis anomala', 'Hydrilla verticillata', 'Hygrophila polysperma', 'Ictalurus furcatus', 'Ictiobus bubalus', 'Ictiobus niger', 'Impatiens glandulifera', 'Iris pseudacorus', 'Juncus compressus', 'Juncus gerardii', 'Juncus inflexus', 'Leuciscus leuciscus', 'Lycopus asper', 'Lycopus europaeus', 'Myriophyllum aquaticum', 'Nitellopsis obtusa', 'Notropis buchanani', 'Percina shumardi', 'Phalaris arundinacea', 'Pomoxis annularis', 'Procambarus fallax f. virginalis', 'Salix caprea', 'Sander lucioperca', 'Sparganium erectum', 'Tinca tinca', 'Typha angustifolia', 'Petromyzon marinus', 'Acineta nitocrae', 'Aeromonas salmonicida', 'Apocorophium lacustre', 'Argulus japonicus', 'Chaetoceros muelleri subsalsum', 'Chroodactylon ornatum', 'Contricribra guillardii', 'Cyclotella atomus', 'Cyclotella cryptica', 'Dactylogyrus amphibothrium', 'Dactylogyrus hemiamphibothrium', 'Daphnia lumholtzi', 'Diaphanosoma fluviatile', 'Diatoma ehrenbergii', 'Discostella (Cyclotella) woltereckii', 'Dugesia polychroa', 'Faxonius rusticus', 'Gammarus fasciatus', 'Glugea hertwigi', 'Heterosporis sutherlandae', 'Hymenomonas roseola', 'Ichthyocotylurus pileatus', 'Mesocyclops pehpeiensis', 'Myxobolus cerebralis', 'Neascus brevicaudatus', 'Novirhabdovirus', 'Paraleptastacus wilsoni', 'Piscirickettsia cf. salmonis', 'Pleurosira laevis', 'Ranavirus sp.', 'Renibacterium salmoninarum', 'Rhabdovirus carpio', 'Ripistes parasita', 'Salmincola lotae', 'Schyzocotyle acheilognathi', 'Scolex pleuronectis', 'Skeletonema potamos', 'Skeletonema subsalsum', 'Sphacelaria fluviatilis', 'Sphacelaria lacustris', 'Sphaeromyxa sevastopoli', 'Stephanodiscus binderanus', 'Stephanodiscus subtilis', 'Thalassiosira baltica', 'Thalassiosira bramaputrae (lacustris)', 'Thalassiosira pseudonana', 'Thalassiosira weissflogii', 'Timoniella sp.', 'Trypanosoma acerinae', 'Ulva (Enteromorpha) flexuosa subsp. flexuosa & paradoxa', 'Ulva (Enteromorpha) intestinalis', 'Ulva (Enteromorpha) prolifera', 'Alopecurus geniculatus', 'Neogobius melanostomus', 'Acentria ephemerella', 'Alosa aestivalis', 'Astacus astacus', 'Bithynia tentaculata', 'Bosmina (Eubosmina) coregoni', 'Bosmina (Eubosmina) maritima', 'Bythotrephes longimanus', 'Cambarus robustus', 'Carassius auratus', 'Cercopagis pengoi', 'Cherax quadricarinatus', 'Cipangopaludina chinensis malleata', 'Cordylophora caspia', 'Craspedacusta sowerbyi', 'Ctenopharyngodon idella', 'Cylindrospermopsis raciborskii', 'Daphnia galeata galeata', 'Dreissena polymorpha', 'Dreissena rostriformis bugensis', 'Echinochloa crusgalli', 'Elimia virginica', 'Enneacanthus gloriosus', 'Esox niger', 'Eurytemora affinis', 'Faxonius imunis', 'Faxonius limosus', 'Faxonius propinquus', 'Filinia cornuta', 'Filinia passa', 'Fredericella sultana', 'Gammarus tigrinus', 'Gasterosteus aculeatus', 'Gianius aquaedulcis', 'Gillia altilis', 'Gymnocephalus cernua', 'Heteropsyllus nr. nunni', 'Hydrocharis morsus-ranae', 'Ictiobus cyprinellus', 'Lasmigona subviridis', 'Lepisosteus platostomus', 'Lepomis humilis', 'Lepomis microlophus', 'Lophopodella carteri', 'Ludwigia grandiflora', 'Lupinus polyphyllus', 'Lysimachia nummularia', 'Lysimachia punctata', 'Lysimachia vulgaris', 'Lythrum salicaria', 'Marsilea quadrifolia', 'Megacyclops viridis', 'Mentha aquatica', 'Mentha gracilis', 'Mentha spicata', 'Myosotis scorpioides', 'Myosoton aquaticum (Stellaria aquatica)', 'Najas marina', 'Najas minor', 'Nasturtium officinale', 'Nitokra hibernica', 'Nitokra incerta', 'Noturus insignis', 'Oncorhynchus gorbuscha', 'Oncorhynchus kisutch', 'Oncorhynchus mykiss', 'Oncorhynchus nerka', 'Oncorhynchus tshawytscha', 'Pacifastacus leniusculus', 'Phenacobius mirabilis', 'Pisidium amnicum', 'Pisidium henslowanum', 'Pisidium moitessierianum', 'Pisidium supinum', 'Pluchea odorata odorata', 'Pluchea odorata succulenta', 'Poa trivialis', 'Polygonum persicaria (Persicaria maculosa)', 'Potamopyrgus antipodarum', 'Potamothrix bedoti', 'Potamothrix moldaviensis', 'Potamothrix vejdovskyi', 'Procambarus acutus acutus', 'Puccinellia distans', 'Radix auricularia', 'Rorippa sylvestris', 'Rumex longifolius', 'Rumex obtusifolius', 'Rutilus rutilus', 'Salix alba', 'Salix fragilis', 'Salix purpurea', 'Schizopera borutzkyi', 'Skistodiaptomus pallidus', 'Solanum dulcamara', 'Solidago sempervirens', 'Sparganium glomeratum', 'Sphaerium corneum', 'Tanysphyrus lemnae', 'Typha laxmannii', 'Valvata piscinalis', 'Actinocyclus normanii fo. subsalsa', 'Alburnus alburnus', 'Alosa pseudoharengus', 'Aplodinotus grunniens', 'Atherina boyeri', 'Babka gymnotrachelus', 'Benthophilus stellatus', 'Brachionus leydigii', 'Calanipeda aquaedulcis\\xa0', 'Chelicorophium curvispinum', 'Clupeonella cultriventris\\xa0', 'Cornigerius maeoticus maeoticus', 'Cottus gobio', 'Cyclops kolensis', 'Cyprinella lutrensis', 'Cyprinus carpio', 'Daphnia cristata', 'Dikerogammarus haemobaphes', 'Dikerogammarus villosus', 'Echinogammarus ischnus', 'Echinogammarus warpachowskyi', 'Elimia livescens', 'Heterocope appendiculata', 'Heterocope caspia', 'Hypania invalida', 'Knipowitschia caucasica\\xa0', 'Labidesthes sicculus', 'Leyogonimus polyoon', 'Limnomysis benedeni', 'Lithoglyphus naticoides', 'Microstegium vimineum', 'Monodacna colorata (NOT Hypanis)', 'Neogobius fluviatilis', 'Obesogammarus crassus', 'Obesogammarus obesus', 'Oncorhynchus keta', 'Osmerus mordax', 'Paraleptastacus spinicaudus', 'Paramysis (Mesomysis) intermedia', 'Paramysis (Metamysis) ullskyi', 'Paramysis (Serrapalpisis) lacustris', 'Perca fluviatilis', 'Perccottus glenii', 'Phoxinus phoxinus', 'Podonevadne trigona ovum', 'Pontogammarus robustoides', 'Prymnesium parvum', 'Salmincola californiensis', 'Salmincola edwardsii', 'Scardinius erythrophthalmus', 'Silurus glanis', 'Sinelobus stanfordi', 'Stagnicola palustris', 'Alosa chrysochloris', 'Anguilla rostrata', 'Bangia atropurpurea', 'Ectinosoma abrau', 'Misgurnus anguillicaudatus', 'Morone americana', 'Mylopharyngodon piceus', 'Proterorhinus semilunaris', 'Pylodictis olivaris', 'Salmo salar', 'Salmo trutta', 'Salvinia minima', 'Viviparus georgianus', 'Cyprinella analostana', 'Osmerus eperlanus', 'Pseudorasbora parva']\n"
     ]
    }
   ],
   "source": [
    "#rochelle.columns\n",
    "namelist= []\n",
    "for name in rochelle['Scientific Name']:\n",
    "    namelist.append(name)\n",
    "\n",
    "print(namelist)"
   ]
  },
  {
   "cell_type": "code",
   "execution_count": 5,
   "metadata": {},
   "outputs": [],
   "source": [
    "#rochelle.reset_index(inplace = True,drop = True) \n",
    "#name = rochelle.loc[2][\"Scientific Name\"] #for some reason couldn't access rochelle[0]...\n",
    "#print(name)\n"
   ]
  },
  {
   "cell_type": "code",
   "execution_count": 6,
   "metadata": {},
   "outputs": [],
   "source": [
    "# Ignore SSL certificate errors --from Beautiful Soup SI 206 textbook\n",
    "ctx = ssl.create_default_context()\n",
    "ctx.check_hostname = False\n",
    "ctx.verify_mode = ssl.CERT_NONE"
   ]
  },
  {
   "cell_type": "code",
   "execution_count": 7,
   "metadata": {},
   "outputs": [],
   "source": [
    "#DEVELOPMENT EXPLORING --- quick learning about using BS with Herbarium\n",
    "# url = \"https://quod.lib.umich.edu/h/herb00ic/x-1000138/MICH-V-1000138A?lasttype=boolean;lastview=reslist;op2=And;q2=Phragmites+australis+australis;resnum=1;rgn2=ic_all;select2=all;size=50;start=1;subview=detail;view=entry\"\n",
    "#html = urllib.request.urlopen(url, context=ctx).read()\n",
    "#soup = BeautifulSoup(html, 'html.parser')\n",
    "#soup"
   ]
  },
  {
   "cell_type": "code",
   "execution_count": 8,
   "metadata": {},
   "outputs": [],
   "source": [
    "#DEVELOPMENT EXPLORING --- quick learning about using BS with Herbarium\n",
    "#resp = requests.get(url)\n",
    "#newsoup = BeautifulSoup(resp.content, 'html.parser')\n",
    "#iteminfo = soup.find('dl')\n",
    "#print(iteminfo)"
   ]
  },
  {
   "cell_type": "code",
   "execution_count": 9,
   "metadata": {},
   "outputs": [],
   "source": [
    "#accessing search page of the herbarium\n",
    "herbarium_url = \"https://quod.lib.umich.edu/cgi/i/image/image-idx?xc=1;page=searchgroup;g=herb-ic\"\n",
    "herbarium_html = urllib.request.urlopen(herbarium_url, context=ctx).read()\n",
    "#herbarium_html\n"
   ]
  },
  {
   "cell_type": "code",
   "execution_count": 10,
   "metadata": {},
   "outputs": [
    {
     "ename": "ElementClickInterceptedException",
     "evalue": "Message: Element <a class=\"[ flex ][ flex-grow-1 ]\" href=\"https://quod.lib.umich.edu/h/herb00ic/x-1102786/MICH-V-1102786?c=fung2ic;c=fuwatic;c=herb00ic;c=herb2ic;c=herb3ic;c=herb4ic;c=herb5ic;c=herb6ic;g=herb-ic;lasttype=boolean;lastview=reslist;resnum=1;size=50;start=1;subview=detail;view=entry;xc=1;rgn1=ic_all;select1=all;q1=Myriophyllum+spicatum\"> is not clickable at point (799,612) because another element <nav id=\"pagination\" class=\"[ pagination__row ][ flex flex-space-between flex-align-center sticky-bottom ]\"> obscures it\nStacktrace:\nRemoteError@chrome://remote/content/shared/RemoteError.sys.mjs:8:8\nWebDriverError@chrome://remote/content/shared/webdriver/Errors.sys.mjs:180:5\nElementClickInterceptedError@chrome://remote/content/shared/webdriver/Errors.sys.mjs:279:5\nwebdriverClickElement@chrome://remote/content/marionette/interaction.sys.mjs:160:11\ninteraction.clickElement@chrome://remote/content/marionette/interaction.sys.mjs:119:11\nclickElement@chrome://remote/content/marionette/actors/MarionetteCommandsChild.sys.mjs:198:29\nreceiveMessage@chrome://remote/content/marionette/actors/MarionetteCommandsChild.sys.mjs:86:31\n",
     "output_type": "error",
     "traceback": [
      "\u001b[1;31m---------------------------------------------------------------------------\u001b[0m",
      "\u001b[1;31mElementClickInterceptedException\u001b[0m          Traceback (most recent call last)",
      "\u001b[1;32m<ipython-input-10-974d1f3f5445>\u001b[0m in \u001b[0;36m<module>\u001b[1;34m\u001b[0m\n\u001b[0;32m     15\u001b[0m     \u001b[0mresultcountnumberlist\u001b[0m\u001b[1;33m=\u001b[0m \u001b[0mlist\u001b[0m\u001b[1;33m(\u001b[0m\u001b[0mmap\u001b[0m\u001b[1;33m(\u001b[0m\u001b[0mint\u001b[0m\u001b[1;33m,\u001b[0m \u001b[0mlist\u001b[0m\u001b[1;33m(\u001b[0m\u001b[0mfilter\u001b[0m\u001b[1;33m(\u001b[0m\u001b[1;32mlambda\u001b[0m \u001b[0mx\u001b[0m\u001b[1;33m:\u001b[0m \u001b[0mx\u001b[0m\u001b[1;33m!=\u001b[0m \u001b[1;34m''\u001b[0m\u001b[1;33m,\u001b[0m \u001b[0mre\u001b[0m\u001b[1;33m.\u001b[0m\u001b[0mfindall\u001b[0m\u001b[1;33m(\u001b[0m\u001b[1;34mr'\\d*'\u001b[0m\u001b[1;33m,\u001b[0m \u001b[0mre\u001b[0m\u001b[1;33m.\u001b[0m\u001b[0msearch\u001b[0m\u001b[1;33m(\u001b[0m\u001b[1;34mr'\\d* of \\d*'\u001b[0m\u001b[1;33m,\u001b[0m \u001b[0mresultcount\u001b[0m\u001b[1;33m)\u001b[0m\u001b[1;33m.\u001b[0m\u001b[0mgroup\u001b[0m\u001b[1;33m(\u001b[0m\u001b[1;33m)\u001b[0m\u001b[1;33m)\u001b[0m\u001b[1;33m)\u001b[0m\u001b[1;33m)\u001b[0m\u001b[1;33m)\u001b[0m\u001b[1;33m)\u001b[0m \u001b[1;31m#first number in list is the total results displayed on the page, the second number is the total results\u001b[0m\u001b[1;33m\u001b[0m\u001b[1;33m\u001b[0m\u001b[0m\n\u001b[0;32m     16\u001b[0m     \u001b[0mresultitem\u001b[0m \u001b[1;33m=\u001b[0m \u001b[0mdriver\u001b[0m\u001b[1;33m.\u001b[0m\u001b[0mfind_element\u001b[0m\u001b[1;33m(\u001b[0m\u001b[0mby\u001b[0m\u001b[1;33m=\u001b[0m\u001b[0mBy\u001b[0m\u001b[1;33m.\u001b[0m\u001b[0mXPATH\u001b[0m\u001b[1;33m,\u001b[0m \u001b[0mvalue\u001b[0m\u001b[1;33m=\u001b[0m\u001b[1;34m'/html/body/main/div[2]/div[2]/section[1]/a'\u001b[0m\u001b[1;33m)\u001b[0m\u001b[1;33m\u001b[0m\u001b[1;33m\u001b[0m\u001b[0m\n\u001b[1;32m---> 17\u001b[1;33m     \u001b[0mresultitem\u001b[0m\u001b[1;33m.\u001b[0m\u001b[0mclick\u001b[0m\u001b[1;33m(\u001b[0m\u001b[1;33m)\u001b[0m\u001b[1;33m\u001b[0m\u001b[1;33m\u001b[0m\u001b[0m\n\u001b[0m\u001b[0;32m     18\u001b[0m \u001b[1;33m\u001b[0m\u001b[0m\n\u001b[0;32m     19\u001b[0m     \u001b[1;31m#individually select each search result and scrape each matching entry\u001b[0m\u001b[1;33m\u001b[0m\u001b[1;33m\u001b[0m\u001b[1;33m\u001b[0m\u001b[0m\n",
      "\u001b[1;32mc:\\Users\\justi\\anaconda3\\lib\\site-packages\\selenium\\webdriver\\remote\\webelement.py\u001b[0m in \u001b[0;36mclick\u001b[1;34m(self)\u001b[0m\n\u001b[0;32m     79\u001b[0m     \u001b[1;32mdef\u001b[0m \u001b[0mclick\u001b[0m\u001b[1;33m(\u001b[0m\u001b[0mself\u001b[0m\u001b[1;33m)\u001b[0m \u001b[1;33m->\u001b[0m \u001b[1;32mNone\u001b[0m\u001b[1;33m:\u001b[0m\u001b[1;33m\u001b[0m\u001b[1;33m\u001b[0m\u001b[0m\n\u001b[0;32m     80\u001b[0m         \u001b[1;34m\"\"\"Clicks the element.\"\"\"\u001b[0m\u001b[1;33m\u001b[0m\u001b[1;33m\u001b[0m\u001b[0m\n\u001b[1;32m---> 81\u001b[1;33m         \u001b[0mself\u001b[0m\u001b[1;33m.\u001b[0m\u001b[0m_execute\u001b[0m\u001b[1;33m(\u001b[0m\u001b[0mCommand\u001b[0m\u001b[1;33m.\u001b[0m\u001b[0mCLICK_ELEMENT\u001b[0m\u001b[1;33m)\u001b[0m\u001b[1;33m\u001b[0m\u001b[1;33m\u001b[0m\u001b[0m\n\u001b[0m\u001b[0;32m     82\u001b[0m \u001b[1;33m\u001b[0m\u001b[0m\n\u001b[0;32m     83\u001b[0m     \u001b[1;32mdef\u001b[0m \u001b[0msubmit\u001b[0m\u001b[1;33m(\u001b[0m\u001b[0mself\u001b[0m\u001b[1;33m)\u001b[0m\u001b[1;33m:\u001b[0m\u001b[1;33m\u001b[0m\u001b[1;33m\u001b[0m\u001b[0m\n",
      "\u001b[1;32mc:\\Users\\justi\\anaconda3\\lib\\site-packages\\selenium\\webdriver\\remote\\webelement.py\u001b[0m in \u001b[0;36m_execute\u001b[1;34m(self, command, params)\u001b[0m\n\u001b[0;32m    708\u001b[0m             \u001b[0mparams\u001b[0m \u001b[1;33m=\u001b[0m \u001b[1;33m{\u001b[0m\u001b[1;33m}\u001b[0m\u001b[1;33m\u001b[0m\u001b[1;33m\u001b[0m\u001b[0m\n\u001b[0;32m    709\u001b[0m         \u001b[0mparams\u001b[0m\u001b[1;33m[\u001b[0m\u001b[1;34m'id'\u001b[0m\u001b[1;33m]\u001b[0m \u001b[1;33m=\u001b[0m \u001b[0mself\u001b[0m\u001b[1;33m.\u001b[0m\u001b[0m_id\u001b[0m\u001b[1;33m\u001b[0m\u001b[1;33m\u001b[0m\u001b[0m\n\u001b[1;32m--> 710\u001b[1;33m         \u001b[1;32mreturn\u001b[0m \u001b[0mself\u001b[0m\u001b[1;33m.\u001b[0m\u001b[0m_parent\u001b[0m\u001b[1;33m.\u001b[0m\u001b[0mexecute\u001b[0m\u001b[1;33m(\u001b[0m\u001b[0mcommand\u001b[0m\u001b[1;33m,\u001b[0m \u001b[0mparams\u001b[0m\u001b[1;33m)\u001b[0m\u001b[1;33m\u001b[0m\u001b[1;33m\u001b[0m\u001b[0m\n\u001b[0m\u001b[0;32m    711\u001b[0m \u001b[1;33m\u001b[0m\u001b[0m\n\u001b[0;32m    712\u001b[0m     \u001b[1;32mdef\u001b[0m \u001b[0mfind_element\u001b[0m\u001b[1;33m(\u001b[0m\u001b[0mself\u001b[0m\u001b[1;33m,\u001b[0m \u001b[0mby\u001b[0m\u001b[1;33m=\u001b[0m\u001b[0mBy\u001b[0m\u001b[1;33m.\u001b[0m\u001b[0mID\u001b[0m\u001b[1;33m,\u001b[0m \u001b[0mvalue\u001b[0m\u001b[1;33m=\u001b[0m\u001b[1;32mNone\u001b[0m\u001b[1;33m)\u001b[0m\u001b[1;33m:\u001b[0m\u001b[1;33m\u001b[0m\u001b[1;33m\u001b[0m\u001b[0m\n",
      "\u001b[1;32mc:\\Users\\justi\\anaconda3\\lib\\site-packages\\selenium\\webdriver\\remote\\webdriver.py\u001b[0m in \u001b[0;36mexecute\u001b[1;34m(self, driver_command, params)\u001b[0m\n\u001b[0;32m    423\u001b[0m         \u001b[0mresponse\u001b[0m \u001b[1;33m=\u001b[0m \u001b[0mself\u001b[0m\u001b[1;33m.\u001b[0m\u001b[0mcommand_executor\u001b[0m\u001b[1;33m.\u001b[0m\u001b[0mexecute\u001b[0m\u001b[1;33m(\u001b[0m\u001b[0mdriver_command\u001b[0m\u001b[1;33m,\u001b[0m \u001b[0mparams\u001b[0m\u001b[1;33m)\u001b[0m\u001b[1;33m\u001b[0m\u001b[1;33m\u001b[0m\u001b[0m\n\u001b[0;32m    424\u001b[0m         \u001b[1;32mif\u001b[0m \u001b[0mresponse\u001b[0m\u001b[1;33m:\u001b[0m\u001b[1;33m\u001b[0m\u001b[1;33m\u001b[0m\u001b[0m\n\u001b[1;32m--> 425\u001b[1;33m             \u001b[0mself\u001b[0m\u001b[1;33m.\u001b[0m\u001b[0merror_handler\u001b[0m\u001b[1;33m.\u001b[0m\u001b[0mcheck_response\u001b[0m\u001b[1;33m(\u001b[0m\u001b[0mresponse\u001b[0m\u001b[1;33m)\u001b[0m\u001b[1;33m\u001b[0m\u001b[1;33m\u001b[0m\u001b[0m\n\u001b[0m\u001b[0;32m    426\u001b[0m             response['value'] = self._unwrap_value(\n\u001b[0;32m    427\u001b[0m                 response.get('value', None))\n",
      "\u001b[1;32mc:\\Users\\justi\\anaconda3\\lib\\site-packages\\selenium\\webdriver\\remote\\errorhandler.py\u001b[0m in \u001b[0;36mcheck_response\u001b[1;34m(self, response)\u001b[0m\n\u001b[0;32m    245\u001b[0m                 \u001b[0malert_text\u001b[0m \u001b[1;33m=\u001b[0m \u001b[0mvalue\u001b[0m\u001b[1;33m[\u001b[0m\u001b[1;34m'alert'\u001b[0m\u001b[1;33m]\u001b[0m\u001b[1;33m.\u001b[0m\u001b[0mget\u001b[0m\u001b[1;33m(\u001b[0m\u001b[1;34m'text'\u001b[0m\u001b[1;33m)\u001b[0m\u001b[1;33m\u001b[0m\u001b[1;33m\u001b[0m\u001b[0m\n\u001b[0;32m    246\u001b[0m             \u001b[1;32mraise\u001b[0m \u001b[0mexception_class\u001b[0m\u001b[1;33m(\u001b[0m\u001b[0mmessage\u001b[0m\u001b[1;33m,\u001b[0m \u001b[0mscreen\u001b[0m\u001b[1;33m,\u001b[0m \u001b[0mstacktrace\u001b[0m\u001b[1;33m,\u001b[0m \u001b[0malert_text\u001b[0m\u001b[1;33m)\u001b[0m  \u001b[1;31m# type: ignore[call-arg]  # mypy is not smart enough here\u001b[0m\u001b[1;33m\u001b[0m\u001b[1;33m\u001b[0m\u001b[0m\n\u001b[1;32m--> 247\u001b[1;33m         \u001b[1;32mraise\u001b[0m \u001b[0mexception_class\u001b[0m\u001b[1;33m(\u001b[0m\u001b[0mmessage\u001b[0m\u001b[1;33m,\u001b[0m \u001b[0mscreen\u001b[0m\u001b[1;33m,\u001b[0m \u001b[0mstacktrace\u001b[0m\u001b[1;33m)\u001b[0m\u001b[1;33m\u001b[0m\u001b[1;33m\u001b[0m\u001b[0m\n\u001b[0m\u001b[0;32m    248\u001b[0m \u001b[1;33m\u001b[0m\u001b[0m\n\u001b[0;32m    249\u001b[0m     \u001b[1;32mdef\u001b[0m \u001b[0m_value_or_default\u001b[0m\u001b[1;33m(\u001b[0m\u001b[0mself\u001b[0m\u001b[1;33m,\u001b[0m \u001b[0mobj\u001b[0m\u001b[1;33m:\u001b[0m \u001b[0mMapping\u001b[0m\u001b[1;33m[\u001b[0m\u001b[0m_KT\u001b[0m\u001b[1;33m,\u001b[0m \u001b[0m_VT\u001b[0m\u001b[1;33m]\u001b[0m\u001b[1;33m,\u001b[0m \u001b[0mkey\u001b[0m\u001b[1;33m:\u001b[0m \u001b[0m_KT\u001b[0m\u001b[1;33m,\u001b[0m \u001b[0mdefault\u001b[0m\u001b[1;33m:\u001b[0m \u001b[0m_VT\u001b[0m\u001b[1;33m)\u001b[0m \u001b[1;33m->\u001b[0m \u001b[0m_VT\u001b[0m\u001b[1;33m:\u001b[0m\u001b[1;33m\u001b[0m\u001b[1;33m\u001b[0m\u001b[0m\n",
      "\u001b[1;31mElementClickInterceptedException\u001b[0m: Message: Element <a class=\"[ flex ][ flex-grow-1 ]\" href=\"https://quod.lib.umich.edu/h/herb00ic/x-1102786/MICH-V-1102786?c=fung2ic;c=fuwatic;c=herb00ic;c=herb2ic;c=herb3ic;c=herb4ic;c=herb5ic;c=herb6ic;g=herb-ic;lasttype=boolean;lastview=reslist;resnum=1;size=50;start=1;subview=detail;view=entry;xc=1;rgn1=ic_all;select1=all;q1=Myriophyllum+spicatum\"> is not clickable at point (799,612) because another element <nav id=\"pagination\" class=\"[ pagination__row ][ flex flex-space-between flex-align-center sticky-bottom ]\"> obscures it\nStacktrace:\nRemoteError@chrome://remote/content/shared/RemoteError.sys.mjs:8:8\nWebDriverError@chrome://remote/content/shared/webdriver/Errors.sys.mjs:180:5\nElementClickInterceptedError@chrome://remote/content/shared/webdriver/Errors.sys.mjs:279:5\nwebdriverClickElement@chrome://remote/content/marionette/interaction.sys.mjs:160:11\ninteraction.clickElement@chrome://remote/content/marionette/interaction.sys.mjs:119:11\nclickElement@chrome://remote/content/marionette/actors/MarionetteCommandsChild.sys.mjs:198:29\nreceiveMessage@chrome://remote/content/marionette/actors/MarionetteCommandsChild.sys.mjs:86:31\n"
     ]
    }
   ],
   "source": [
    "#setting up driver for Selenium\n",
    "driver = webdriver.Firefox() #???Should I write a script for multiple Browsers?\n",
    "scraped_dataframe = pd.DataFrame()#(index=[0])\n",
    "#send driver to the herbarium website and submit a search query and scrape the amount of results\n",
    "#BE SURE TO SWITCH ALL \"FIND ELEMENTS\" TO XPATH IF PLAUSIBLE?\n",
    "for speciesname in namelist:\n",
    "    driver.get(herbarium_url) # Goes to herbarium\n",
    "    elem = driver.find_element(by = By.NAME, value = 'q1') #Q1 is the first search box?\n",
    "    elem.send_keys(speciesname) #'Cabomba caroliniana') #Sends in a name from Rochelle's list\n",
    "    searchbutton = driver.find_element(by = By.CSS_SELECTOR, value= '#collection-search > button.\\[.button.button--cta.\\]') #selects the advanced search button based off the pulled tag from right clicking the inspected element\n",
    "    searchbutton.click()\n",
    "    #search_results_url = driver.current_url\n",
    "    resultcount = driver.find_element(by = By.CLASS_NAME, value ='results-heading').text\n",
    "    #next line returns a list of two numbers like ['23','23']\n",
    "    resultcountnumberlist= list(map(int, list(filter(lambda x: x!= '', re.findall(r'\\d*', re.search(r'\\d* of \\d*', resultcount).group()))))) #first number in list is the total results displayed on the page, the second number is the total results\n",
    "    resultitem = driver.find_element(by=By.XPATH, value='/html/body/main/div[2]/div[2]/section[1]/a')\n",
    "    resultitem.click()\n",
    "\n",
    "    #individually select each search result and scrape each matching entry\n",
    "\n",
    "    #driver2 = webdriver.Chrome()\n",
    "    \n",
    "    for result in range(int(resultcountnumberlist[0])): #[:-1]: #properly traverses the amount of results on the page\n",
    "        scrapeddata1 = []\n",
    "        scrapeddata2 = []\n",
    "        time.sleep(2) #sleep allows the servers time to communicate\n",
    "        resp = requests.get(driver.current_url)\n",
    "        #print(resp.content)\n",
    "        newsoup = BeautifulSoup(resp.content, 'html.parser')\n",
    "        collection_category = newsoup.find_all('dt')\n",
    "        collection_data = newsoup.find_all('dd')\n",
    "        for tag in collection_category:\n",
    "            scrapeddata1.append(tag.text)\n",
    "        for tag in collection_data:\n",
    "            scrapeddata2.append(tag.text)\n",
    "        nextbutton = driver.find_element(by=By.XPATH, value='/html/body/main/div[1]/p/a[2]')\n",
    "        nextbutton.click()\n",
    "        scraped_data = dict(zip(scrapeddata1, scrapeddata2)) #scraped data includes column names and data\n",
    "        result_df = pd.DataFrame(data=scraped_data, index=[0])\n",
    "        #print(result_df)\n",
    "        if scraped_dataframe.empty:\n",
    "            scraped_dataframe = result_df\n",
    "            #print('Empty')\n",
    "        else:\n",
    "            scraped_dataframe = scraped_dataframe.append(pd.DataFrame(data = result_df))\n",
    "            #print('Not Empty Anymore')\n",
    "        #print(result_df)\n",
    "    #scraped_dataframe.append(result_df)\n",
    "\n"
   ]
  },
  {
   "cell_type": "code",
   "execution_count": null,
   "metadata": {},
   "outputs": [],
   "source": [
    "scraped_dataframe = scraped_dataframe.reset_index(drop=True)"
   ]
  },
  {
   "cell_type": "code",
   "execution_count": 12,
   "metadata": {},
   "outputs": [
    {
     "name": "stdout",
     "output_type": "stream",
     "text": [
      "[50, 96]\n"
     ]
    }
   ],
   "source": [
    "#scraped_dataframe.columns\n",
    "print(resultcountnumberlist)"
   ]
  },
  {
   "cell_type": "code",
   "execution_count": null,
   "metadata": {},
   "outputs": [],
   "source": [
    "#aaa =result_df.columns"
   ]
  },
  {
   "cell_type": "code",
   "execution_count": null,
   "metadata": {},
   "outputs": [],
   "source": [
    "#testdf = pd.DataFrame()\n",
    "#columns = []\n",
    "#for c in aaa:\n",
    "\n",
    "#    if c not in testdf.columns:\n",
    "#        #print(c)\n",
    "#        columns.append(c)\n",
    "#ntestdf = pd.DataFrame(columns=columns)"
   ]
  },
  {
   "cell_type": "code",
   "execution_count": null,
   "metadata": {},
   "outputs": [],
   "source": [
    "#ntestdf.columns"
   ]
  },
  {
   "cell_type": "code",
   "execution_count": null,
   "metadata": {},
   "outputs": [],
   "source": [
    "#ntestdf"
   ]
  },
  {
   "cell_type": "code",
   "execution_count": null,
   "metadata": {},
   "outputs": [],
   "source": [
    "#scrapeddata1"
   ]
  },
  {
   "cell_type": "code",
   "execution_count": null,
   "metadata": {},
   "outputs": [],
   "source": []
  }
 ],
 "metadata": {
  "kernelspec": {
   "display_name": "Python 3.8.5 ('base')",
   "language": "python",
   "name": "python3"
  },
  "language_info": {
   "codemirror_mode": {
    "name": "ipython",
    "version": 3
   },
   "file_extension": ".py",
   "mimetype": "text/x-python",
   "name": "python",
   "nbconvert_exporter": "python",
   "pygments_lexer": "ipython3",
   "version": "3.8.5"
  },
  "orig_nbformat": 4,
  "vscode": {
   "interpreter": {
    "hash": "eedb55a3f3d5a08c90a45b02edd9d5201f64a9996f64fdac14a22b56503f46e8"
   }
  }
 },
 "nbformat": 4,
 "nbformat_minor": 2
}
