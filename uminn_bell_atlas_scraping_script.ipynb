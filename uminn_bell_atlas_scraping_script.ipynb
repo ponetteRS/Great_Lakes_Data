{
 "cells": [
  {
   "cell_type": "code",
   "execution_count": 1,
   "metadata": {},
   "outputs": [],
   "source": [
    "import pandas as pd\n",
    "import ssl\n",
    "import urllib.request, urllib.parse, urllib.error\n",
    "from selenium import webdriver\n",
    "from selenium.webdriver.common.by import By\n"
   ]
  },
  {
   "cell_type": "code",
   "execution_count": 2,
   "metadata": {},
   "outputs": [],
   "source": [
    "rochelle = pd.read_excel(r\"C:\\Users\\justi\\Downloads\\GLANSIS Spp. Tracking.xlsx\", sheet_name = \"Listed\")\n"
   ]
  },
  {
   "cell_type": "code",
   "execution_count": 3,
   "metadata": {},
   "outputs": [
    {
     "name": "stdout",
     "output_type": "stream",
     "text": [
      "['Cabomba caroliniana', 'Myriophyllum spicatum', 'Phragmites australis', 'Nymphoides peltata', 'Potamogeton crispus', 'Trapa natans', 'Corbicula fluminea', 'Gambusia affinis', 'Pimephales vigilax', 'Crassula helmsii', 'Pistia stratiotes', 'Stratiotes aloides', 'Veronica beccabunga', 'Rhithropanopeus harrisi', 'Thermocyclops crassus', 'Cherax destructor', 'Hypophthalmichthys molitrix', 'Hypophthalmichthys nobilis', 'Lepomis auritus', 'Limnoperna fortunei', 'Alnus glutinosa', 'Apeltes quadracus', 'Arundo donax', 'Branchiura sowerbyi', 'Channa argus', 'Cipangopaludina japonica', 'Cyclops strenuus', 'Didymosphenia geminata', 'Discostella (Cyclotella) pseudostelligera', 'Leuciscus idus', 'Neoergasilus japonicus', 'Procambarus clarkii', 'Psammonobiotus communis', 'Psammonobiotus dziwnowi', 'Psammonobiotus linearis', 'Syngnathus abaster', 'Agrostis gigantea', 'Butomus umbellatus', 'Carassius carassius', 'Carex acutiformis', 'Carex disticha', 'Chenopodium glaucum (Oxybasis glauca)', 'Cirsium palustre', 'Conium maculatum', 'Cyprinella whipplei', 'Dorosoma cepedianum', 'Egeria densa', 'Eichhornia crassipes', 'Epilobium hirsutum', 'Esox masquinongy', 'Frangula alnus  (Rhamnus frangula)', 'Glyceria maxima', 'Hemimysis anomala', 'Hydrilla verticillata', 'Hygrophila polysperma', 'Ictalurus furcatus', 'Ictiobus bubalus', 'Ictiobus niger', 'Impatiens glandulifera', 'Iris pseudacorus', 'Juncus compressus', 'Juncus gerardii', 'Juncus inflexus', 'Leuciscus leuciscus', 'Lycopus asper', 'Lycopus europaeus', 'Myriophyllum aquaticum', 'Nitellopsis obtusa', 'Notropis buchanani', 'Percina shumardi', 'Phalaris arundinacea', 'Pomoxis annularis', 'Procambarus fallax f. virginalis', 'Salix caprea', 'Sander lucioperca', 'Sparganium erectum', 'Tinca tinca', 'Typha angustifolia', 'Petromyzon marinus', 'Acineta nitocrae', 'Aeromonas salmonicida', 'Apocorophium lacustre', 'Argulus japonicus', 'Chaetoceros muelleri subsalsum', 'Chroodactylon ornatum', 'Contricribra guillardii', 'Cyclotella atomus', 'Cyclotella cryptica', 'Dactylogyrus amphibothrium', 'Dactylogyrus hemiamphibothrium', 'Daphnia lumholtzi', 'Diaphanosoma fluviatile', 'Diatoma ehrenbergii', 'Discostella (Cyclotella) woltereckii', 'Dugesia polychroa', 'Faxonius rusticus', 'Gammarus fasciatus', 'Glugea hertwigi', 'Heterosporis sutherlandae', 'Hymenomonas roseola', 'Ichthyocotylurus pileatus', 'Mesocyclops pehpeiensis', 'Myxobolus cerebralis', 'Neascus brevicaudatus', 'Novirhabdovirus', 'Paraleptastacus wilsoni', 'Piscirickettsia cf. salmonis', 'Pleurosira laevis', 'Ranavirus sp.', 'Renibacterium salmoninarum', 'Rhabdovirus carpio', 'Ripistes parasita', 'Salmincola lotae', 'Schyzocotyle acheilognathi', 'Scolex pleuronectis', 'Skeletonema potamos', 'Skeletonema subsalsum', 'Sphacelaria fluviatilis', 'Sphacelaria lacustris', 'Sphaeromyxa sevastopoli', 'Stephanodiscus binderanus', 'Stephanodiscus subtilis', 'Thalassiosira baltica', 'Thalassiosira bramaputrae (lacustris)', 'Thalassiosira pseudonana', 'Thalassiosira weissflogii', 'Timoniella sp.', 'Trypanosoma acerinae', 'Ulva (Enteromorpha) flexuosa subsp. flexuosa & paradoxa', 'Ulva (Enteromorpha) intestinalis', 'Ulva (Enteromorpha) prolifera', 'Alopecurus geniculatus', 'Neogobius melanostomus', 'Acentria ephemerella', 'Alosa aestivalis', 'Astacus astacus', 'Bithynia tentaculata', 'Bosmina (Eubosmina) coregoni', 'Bosmina (Eubosmina) maritima', 'Bythotrephes longimanus', 'Cambarus robustus', 'Carassius auratus', 'Cercopagis pengoi', 'Cherax quadricarinatus', 'Cipangopaludina chinensis malleata', 'Cordylophora caspia', 'Craspedacusta sowerbyi', 'Ctenopharyngodon idella', 'Cylindrospermopsis raciborskii', 'Daphnia galeata galeata', 'Dreissena polymorpha', 'Dreissena rostriformis bugensis', 'Echinochloa crusgalli', 'Elimia virginica', 'Enneacanthus gloriosus', 'Esox niger', 'Eurytemora affinis', 'Faxonius imunis', 'Faxonius limosus', 'Faxonius propinquus', 'Filinia cornuta', 'Filinia passa', 'Fredericella sultana', 'Gammarus tigrinus', 'Gasterosteus aculeatus', 'Gianius aquaedulcis', 'Gillia altilis', 'Gymnocephalus cernua', 'Heteropsyllus nr. nunni', 'Hydrocharis morsus-ranae', 'Ictiobus cyprinellus', 'Lasmigona subviridis', 'Lepisosteus platostomus', 'Lepomis humilis', 'Lepomis microlophus', 'Lophopodella carteri', 'Ludwigia grandiflora', 'Lupinus polyphyllus', 'Lysimachia nummularia', 'Lysimachia punctata', 'Lysimachia vulgaris', 'Lythrum salicaria', 'Marsilea quadrifolia', 'Megacyclops viridis', 'Mentha aquatica', 'Mentha gracilis', 'Mentha spicata', 'Myosotis scorpioides', 'Myosoton aquaticum (Stellaria aquatica)', 'Najas marina', 'Najas minor', 'Nasturtium officinale', 'Nitokra hibernica', 'Nitokra incerta', 'Noturus insignis', 'Oncorhynchus gorbuscha', 'Oncorhynchus kisutch', 'Oncorhynchus mykiss', 'Oncorhynchus nerka', 'Oncorhynchus tshawytscha', 'Pacifastacus leniusculus', 'Phenacobius mirabilis', 'Pisidium amnicum', 'Pisidium henslowanum', 'Pisidium moitessierianum', 'Pisidium supinum', 'Pluchea odorata odorata', 'Pluchea odorata succulenta', 'Poa trivialis', 'Polygonum persicaria (Persicaria maculosa)', 'Potamopyrgus antipodarum', 'Potamothrix bedoti', 'Potamothrix moldaviensis', 'Potamothrix vejdovskyi', 'Procambarus acutus acutus', 'Puccinellia distans', 'Radix auricularia', 'Rorippa sylvestris', 'Rumex longifolius', 'Rumex obtusifolius', 'Rutilus rutilus', 'Salix alba', 'Salix fragilis', 'Salix purpurea', 'Schizopera borutzkyi', 'Skistodiaptomus pallidus', 'Solanum dulcamara', 'Solidago sempervirens', 'Sparganium glomeratum', 'Sphaerium corneum', 'Tanysphyrus lemnae', 'Typha laxmannii', 'Valvata piscinalis', 'Actinocyclus normanii fo. subsalsa', 'Alburnus alburnus', 'Alosa pseudoharengus', 'Aplodinotus grunniens', 'Atherina boyeri', 'Babka gymnotrachelus', 'Benthophilus stellatus', 'Brachionus leydigii', 'Calanipeda aquaedulcis\\xa0', 'Chelicorophium curvispinum', 'Clupeonella cultriventris\\xa0', 'Cornigerius maeoticus maeoticus', 'Cottus gobio', 'Cyclops kolensis', 'Cyprinella lutrensis', 'Cyprinus carpio', 'Daphnia cristata', 'Dikerogammarus haemobaphes', 'Dikerogammarus villosus', 'Echinogammarus ischnus', 'Echinogammarus warpachowskyi', 'Elimia livescens', 'Heterocope appendiculata', 'Heterocope caspia', 'Hypania invalida', 'Knipowitschia caucasica\\xa0', 'Labidesthes sicculus', 'Leyogonimus polyoon', 'Limnomysis benedeni', 'Lithoglyphus naticoides', 'Microstegium vimineum', 'Monodacna colorata (NOT Hypanis)', 'Neogobius fluviatilis', 'Obesogammarus crassus', 'Obesogammarus obesus', 'Oncorhynchus keta', 'Osmerus mordax', 'Paraleptastacus spinicaudus', 'Paramysis (Mesomysis) intermedia', 'Paramysis (Metamysis) ullskyi', 'Paramysis (Serrapalpisis) lacustris', 'Perca fluviatilis', 'Perccottus glenii', 'Phoxinus phoxinus', 'Podonevadne trigona ovum', 'Pontogammarus robustoides', 'Prymnesium parvum', 'Salmincola californiensis', 'Salmincola edwardsii', 'Scardinius erythrophthalmus', 'Silurus glanis', 'Sinelobus stanfordi', 'Stagnicola palustris', 'Alosa chrysochloris', 'Anguilla rostrata', 'Bangia atropurpurea', 'Ectinosoma abrau', 'Misgurnus anguillicaudatus', 'Morone americana', 'Mylopharyngodon piceus', 'Proterorhinus semilunaris', 'Pylodictis olivaris', 'Salmo salar', 'Salmo trutta', 'Salvinia minima', 'Viviparus georgianus', 'Cyprinella analostana', 'Osmerus eperlanus', 'Pseudorasbora parva']\n"
     ]
    }
   ],
   "source": [
    "#rochelle.columns\n",
    "namelist= []\n",
    "for name in rochelle['Scientific Name']:\n",
    "    namelist.append(name)\n",
    "\n",
    "print(namelist)"
   ]
  },
  {
   "cell_type": "code",
   "execution_count": 4,
   "metadata": {},
   "outputs": [],
   "source": [
    "# Ignore SSL certificate errors --from Beautiful Soup SI 206 textbook\n",
    "ctx = ssl.create_default_context()\n",
    "ctx.check_hostname = False\n",
    "ctx.verify_mode = ssl.CERT_NONE"
   ]
  },
  {
   "cell_type": "code",
   "execution_count": 5,
   "metadata": {},
   "outputs": [],
   "source": [
    "#accessing search page of the herbarium\n",
    "atlas_url = \"https://bellatlas.umn.edu/collections/harvestparams.php\"\n",
    "atlas_html = urllib.request.urlopen(atlas_url, context=ctx).read()\n",
    "#herbarium_html\n"
   ]
  },
  {
   "cell_type": "code",
   "execution_count": 7,
   "metadata": {},
   "outputs": [],
   "source": [
    "#setting up driver for Selenium\n",
    "driver = webdriver.Firefox() #???Should I write a script for multiple Browsers?\n",
    "driver.maximize_window()\n",
    "scraped_dataframe = pd.DataFrame()#(index=[0])\n",
    "scraped_dataframe.reset_index(drop=True)\n",
    "for speciesname in namelist[:1]:\n",
    "    #print(speciesname)\n",
    "    driver.get(atlas_url) # Goes to atlas\n",
    "    namebox = driver.find_element(by = By.XPATH, value = '//*[@id=\"taxa\"]')\n",
    "    namebox.send_keys('COME ON') #'Cabomba caroliniana') #Sends in a name from Rochelle's list\n",
    "    searchbutton = driver.find_element(by = By.XPATH, value='/html/body/table/tbody/tr/td/div[4]/form/div[2]/div[1]/button') #selects the advanced search button based off the pulled tag from right clicking the inspected element\n",
    "    searchbutton.click()\n",
    "    #resultcount = driver.find_element(by = By.XPATH, value ='/html/body/table/tbody/tr/td/div[4]/div/div[2]/div/div[4]/div[3]').text"
   ]
  },
  {
   "cell_type": "code",
   "execution_count": null,
   "metadata": {},
   "outputs": [],
   "source": []
  }
 ],
 "metadata": {
  "kernelspec": {
   "display_name": "base",
   "language": "python",
   "name": "python3"
  },
  "language_info": {
   "codemirror_mode": {
    "name": "ipython",
    "version": 3
   },
   "file_extension": ".py",
   "mimetype": "text/x-python",
   "name": "python",
   "nbconvert_exporter": "python",
   "pygments_lexer": "ipython3",
   "version": "3.8.5"
  },
  "orig_nbformat": 4,
  "vscode": {
   "interpreter": {
    "hash": "eedb55a3f3d5a08c90a45b02edd9d5201f64a9996f64fdac14a22b56503f46e8"
   }
  }
 },
 "nbformat": 4,
 "nbformat_minor": 2
}
