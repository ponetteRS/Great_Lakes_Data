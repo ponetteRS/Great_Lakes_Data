{
 "cells": [
  {
   "cell_type": "code",
   "execution_count": 1,
   "metadata": {},
   "outputs": [],
   "source": [
    "import pandas as pd\n",
    "import numpy as np\n",
    "import ssl\n",
    "import urllib.request, urllib.parse, urllib.error\n",
    "from selenium import webdriver\n",
    "from selenium.webdriver.common.by import By\n",
    "import time\n",
    "import requests\n",
    "from bs4 import BeautifulSoup\n",
    "import glob\n",
    "import os.path\n",
    "import re\n",
    "from pandas.errors import EmptyDataError\n",
    "\n"
   ]
  },
  {
   "cell_type": "code",
   "execution_count": 2,
   "metadata": {},
   "outputs": [],
   "source": [
    "rochelle = pd.read_excel(r\"C:\\Users\\justi\\Downloads\\GLANSIS Spp. Tracking.xlsx\", sheet_name = \"Listed\")\n"
   ]
  },
  {
   "cell_type": "code",
   "execution_count": 3,
   "metadata": {},
   "outputs": [
    {
     "name": "stdout",
     "output_type": "stream",
     "text": [
      "302\n"
     ]
    }
   ],
   "source": [
    "#rochelle.columns\n",
    "namelist= []\n",
    "for name in rochelle['Scientific Name']:\n",
    "    namelist.append(name)"
   ]
  },
  {
   "cell_type": "code",
   "execution_count": 4,
   "metadata": {},
   "outputs": [],
   "source": [
    "# Ignore SSL certificate errors --from Beautiful Soup SI 206 textbook\n",
    "ctx = ssl.create_default_context()\n",
    "ctx.check_hostname = False\n",
    "ctx.verify_mode = ssl.CERT_NONE"
   ]
  },
  {
   "cell_type": "code",
   "execution_count": 5,
   "metadata": {},
   "outputs": [],
   "source": [
    "#accessing search page of the herbarium\n",
    "atlas_url = \"https://bellatlas.umn.edu/collections/harvestparams.php\"\n",
    "#atlas_html = urllib.request.urlopen(atlas_url, context=ctx).read()\n",
    "\n"
   ]
  },
  {
   "cell_type": "code",
   "execution_count": 6,
   "metadata": {},
   "outputs": [
    {
     "name": "stdout",
     "output_type": "stream",
     "text": [
      "Empty Data Error Occured on file C:\\Users\\justi\\Downloads\\1681703867-occur.csv\n",
      "Skipping to next interation\n",
      "Empty Data Error Occured on file C:\\Users\\justi\\Downloads\\1681704575-occur.csv\n",
      "Skipping to next interation\n"
     ]
    }
   ],
   "source": [
    "#setting up driver for Selenium\n",
    "driver = webdriver.Firefox() #???Should I write a script for multiple Browsers?\n",
    "rounds = 0\n",
    "emptyresults = 0\n",
    "masterdataframe = pd.DataFrame()\n",
    "driver.maximize_window()\n",
    "scraped_dataframe = pd.DataFrame()#(index=[0])\n",
    "scraped_dataframe.reset_index(drop=True)\n",
    "for speciesname in namelist[:]:\n",
    "    driver.get(atlas_url) # Goes to atlas\n",
    "    namebox = driver.find_element(by = By.XPATH, value = '//*[@id=\"taxa\"]')\n",
    "    searchbutton = driver.find_element(by = By.XPATH, value='/html/body/table/tbody/tr/td/div[4]/form/div[2]/div[1]/button') #selects the advanced search button based off the pulled tag from right clicking the inspected element\n",
    "    time.sleep(.5)\n",
    "    namebox.clear()\n",
    "    namebox.send_keys(speciesname) #'Cabomba caroliniana') #Sends in a name from Rochelle's list\n",
    "    searchbutton.click()\n",
    "\n",
    "    resultcount = driver.find_element(by=By.XPATH, value='/html/body/table/tbody/tr/td/div[4]/div/div[2]/div/div[4]/div[3]').text\n",
    "    resultcountnumberlist= list(map(int, list(filter(lambda x: x!= '', re.findall(r'\\d*', re.search(r'\\d* of \\d*', resultcount).group()))))) #first number in list is the total results displayed on the page, the second number is the total results\n",
    "#if there are not results\n",
    "    if resultcountnumberlist[1] == 0:\n",
    "        emptyresults+=1\n",
    "        continue\n",
    "#continue to next search\n",
    "    \n",
    "#if there are results\n",
    "    windowbefore = driver.window_handles[0]\n",
    "    downloadbutton = driver.find_element(by=By.XPATH, value='/html/body/table/tbody/tr/td/div[4]/div/div[2]/div/div[1]/form/button')\n",
    "    downloadbutton.click()\n",
    "    windowafter = driver.window_handles[1]\n",
    "    driver.switch_to.window(windowafter)\n",
    "    time.sleep(2)\n",
    "    driver.find_element(by=By.XPATH, value='/html/body/div[1]/div[2]/form/fieldset/table/tbody/tr[4]/td[2]/div/input[2]').click() #utf8 encoding\n",
    "    driver.find_element(by=By.XPATH, value='/html/body/div[1]/div[2]/form/fieldset/table/tbody/tr[5]/td[2]/div/input').click() #uncompresses download\n",
    "\n",
    "    downloadbutton=driver.find_element(by=By.NAME, value= \"submitaction\") #OVERWRITES THE PREVIOUS DOWNLOAD BUTTON\n",
    "    downloadbutton.click()\n",
    "\n",
    "    folder_path = r'C:\\Users\\justi\\Downloads'\n",
    "    file_type = r'\\*CSV'\n",
    "    files = glob.glob(folder_path + file_type)\n",
    "    max_file = max(files, key=os.path.getctime)\n",
    "\n",
    "    try:\n",
    "        downloadeddata = pd.read_csv(max_file, encoding='utf-8')\n",
    "    except:\n",
    "        try:\n",
    "            print('Empty Data Error Occured on file ' + max_file)\n",
    "            downloadeddatafile = open(max_file, 'r')\n",
    "            downloadeddata = pd.read_csv(downloadeddatafile, encoding='utf-8')\n",
    "            downloadeddatafile.close()\n",
    "            continue\n",
    "        except:\n",
    "            print(\"Skipping to next interation\")\n",
    "            continue\n",
    "        \n",
    "    \n",
    "    if masterdataframe.empty:\n",
    "        masterdataframe = pd.DataFrame(data=downloadeddata)\n",
    "    else:\n",
    "        masterdataframe = masterdataframe.append(pd.DataFrame(data = downloadeddata))\n",
    "    driver.switch_to.window(windowbefore)\n",
    "    rounds +=1\n",
    "    os.remove(max_file)\n",
    "    "
   ]
  },
  {
   "cell_type": "code",
   "execution_count": 108,
   "metadata": {},
   "outputs": [],
   "source": [
    "file= masterdataframe.to_csv(r'C:\\Users\\justi\\Downloads\\minnatlas-out.csv', encoding='utf-8')"
   ]
  },
  {
   "cell_type": "code",
   "execution_count": 118,
   "metadata": {},
   "outputs": [],
   "source": [
    "clienttemplate = pd.read_excel(r\"C:\\Users\\justi\\Downloads\\GLANSISSpecimenBulkUploadTemplateTEST.xlsx\").drop('Unnamed: 0', axis=1)\n",
    "clienttemplate[['Genus*', 'Species*', 'Latitude*', 'Longitude*', 'Year*', 'Month', 'Day', 'Collectors', 'Reference ID*', 'Reference 3', 'Number collected/observed', 'Locality*'  ]] = masterdataframe[['genus', 'specificEpithet', 'decimalLatitude', 'decimalLongitude', 'year', 'month', 'day', 'recordedBy', 'id', 'references', 'individualCount', 'locality']]\n",
    "clienttemplate['Source*'] = np.where(clienttemplate['Latitude*'].isna()|clienttemplate['Longitude*'].isna(), '', 'reported')\n",
    "clienttemplate['Accuracy*'] = np.where(clienttemplate['Source*'] == 'reported', 'accurate', '') #\n",
    "clienttemplate['Reference 2']= atlas_url #, 'month', 'day', 'recordedBy', 'id', 'references', 'individualCount', 'locality'\n",
    "clienttemplate['Record Type*'] = np.where(masterdataframe['collectionCode'].isna(), '', 'specimen')\n",
    "clienttemplate['Year Accuracy of specimen*'] = masterdataframe['year']\n"
   ]
  },
  {
   "cell_type": "code",
   "execution_count": null,
   "metadata": {},
   "outputs": [],
   "source": []
  }
 ],
 "metadata": {
  "kernelspec": {
   "display_name": "base",
   "language": "python",
   "name": "python3"
  },
  "language_info": {
   "codemirror_mode": {
    "name": "ipython",
    "version": 3
   },
   "file_extension": ".py",
   "mimetype": "text/x-python",
   "name": "python",
   "nbconvert_exporter": "python",
   "pygments_lexer": "ipython3",
   "version": "3.8.5"
  },
  "orig_nbformat": 4,
  "vscode": {
   "interpreter": {
    "hash": "eedb55a3f3d5a08c90a45b02edd9d5201f64a9996f64fdac14a22b56503f46e8"
   }
  }
 },
 "nbformat": 4,
 "nbformat_minor": 2
}
